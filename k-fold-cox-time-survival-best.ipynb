{
 "cells": [
  {
   "cell_type": "markdown",
   "metadata": {},
   "source": [
    "## Imports\n"
   ]
  },
  {
   "cell_type": "code",
   "execution_count": 23,
   "metadata": {},
   "outputs": [],
   "source": [
    "import numpy as np\n",
    "import matplotlib.pyplot as plt\n",
    "import pandas as pd\n",
    "# For preprocessing\n",
    "from sklearn.preprocessing import StandardScaler\n",
    "from sklearn.model_selection import train_test_split\n",
    "from sklearn_pandas import DataFrameMapper \n",
    "from pycox.evaluation import EvalSurv\n",
    "\n",
    "from pycox.models import CoxTime\n",
    "import torch # For building the networks \n",
    "from sklearn.model_selection import KFold, GridSearchCV\n",
    "from estimators import CoxTimeEstimator\n",
    "import torchtuples as tt \n",
    "from collections import defaultdict"
   ]
  },
  {
   "cell_type": "code",
   "execution_count": 24,
   "metadata": {},
   "outputs": [],
   "source": [
    "# Hyper-parameters\n",
    "test_size = 0.2\n",
    "train_size = 0.8\n",
    "assert test_size + train_size == 1, \"total size is not equal to 1\""
   ]
  },
  {
   "cell_type": "code",
   "execution_count": 25,
   "metadata": {},
   "outputs": [],
   "source": [
    "# We also set some seeds to make this reproducable.\n",
    "# Note that on gpu, there is still some randomness.\n",
    "seed = 1234\n",
    "np.random.seed(seed)\n",
    "torch.manual_seed(seed);"
   ]
  },
  {
   "cell_type": "markdown",
   "metadata": {},
   "source": [
    "## Dataset\n",
    "\n",
    "We load data from an Iranian Institution\n",
    "\n",
    "The `time` column gives the observed times and the `event` column contains indicators of whether the observation is an event (1) or a censored observation (0)."
   ]
  },
  {
   "cell_type": "code",
   "execution_count": 26,
   "metadata": {},
   "outputs": [
    {
     "data": {
      "text/html": [
       "<div>\n",
       "<style scoped>\n",
       "    .dataframe tbody tr th:only-of-type {\n",
       "        vertical-align: middle;\n",
       "    }\n",
       "\n",
       "    .dataframe tbody tr th {\n",
       "        vertical-align: top;\n",
       "    }\n",
       "\n",
       "    .dataframe thead th {\n",
       "        text-align: right;\n",
       "    }\n",
       "</style>\n",
       "<table border=\"1\" class=\"dataframe\">\n",
       "  <thead>\n",
       "    <tr style=\"text-align: right;\">\n",
       "      <th></th>\n",
       "      <th>event</th>\n",
       "      <th>time</th>\n",
       "      <th>diagnosic-age</th>\n",
       "      <th>edjucation</th>\n",
       "      <th>marital-status</th>\n",
       "      <th>G</th>\n",
       "      <th>AB</th>\n",
       "      <th>BF</th>\n",
       "      <th>FH</th>\n",
       "      <th>Surgery</th>\n",
       "      <th>T</th>\n",
       "      <th>N</th>\n",
       "      <th>stage</th>\n",
       "      <th>Path</th>\n",
       "      <th>Grade</th>\n",
       "      <th>LVI</th>\n",
       "      <th>hormone subgroup</th>\n",
       "      <th>CT</th>\n",
       "      <th>RT</th>\n",
       "      <th>HT</th>\n",
       "    </tr>\n",
       "  </thead>\n",
       "  <tbody>\n",
       "    <tr>\n",
       "      <th>0</th>\n",
       "      <td>0</td>\n",
       "      <td>334.2</td>\n",
       "      <td>46</td>\n",
       "      <td>2</td>\n",
       "      <td>2</td>\n",
       "      <td>2</td>\n",
       "      <td>1</td>\n",
       "      <td>1</td>\n",
       "      <td>0</td>\n",
       "      <td>2</td>\n",
       "      <td>1</td>\n",
       "      <td>2</td>\n",
       "      <td>3</td>\n",
       "      <td>1</td>\n",
       "      <td>2</td>\n",
       "      <td>0</td>\n",
       "      <td>2</td>\n",
       "      <td>1</td>\n",
       "      <td>1</td>\n",
       "      <td>1</td>\n",
       "    </tr>\n",
       "    <tr>\n",
       "      <th>1</th>\n",
       "      <td>0</td>\n",
       "      <td>328.9</td>\n",
       "      <td>35</td>\n",
       "      <td>1</td>\n",
       "      <td>2</td>\n",
       "      <td>2</td>\n",
       "      <td>0</td>\n",
       "      <td>1</td>\n",
       "      <td>0</td>\n",
       "      <td>1</td>\n",
       "      <td>3</td>\n",
       "      <td>0</td>\n",
       "      <td>2</td>\n",
       "      <td>1</td>\n",
       "      <td>2</td>\n",
       "      <td>0</td>\n",
       "      <td>4</td>\n",
       "      <td>1</td>\n",
       "      <td>1</td>\n",
       "      <td>1</td>\n",
       "    </tr>\n",
       "    <tr>\n",
       "      <th>2</th>\n",
       "      <td>0</td>\n",
       "      <td>310.4</td>\n",
       "      <td>41</td>\n",
       "      <td>2</td>\n",
       "      <td>2</td>\n",
       "      <td>2</td>\n",
       "      <td>0</td>\n",
       "      <td>1</td>\n",
       "      <td>0</td>\n",
       "      <td>2</td>\n",
       "      <td>1</td>\n",
       "      <td>2</td>\n",
       "      <td>3</td>\n",
       "      <td>1</td>\n",
       "      <td>2</td>\n",
       "      <td>1</td>\n",
       "      <td>2</td>\n",
       "      <td>1</td>\n",
       "      <td>1</td>\n",
       "      <td>1</td>\n",
       "    </tr>\n",
       "    <tr>\n",
       "      <th>3</th>\n",
       "      <td>0</td>\n",
       "      <td>309.7</td>\n",
       "      <td>48</td>\n",
       "      <td>2</td>\n",
       "      <td>2</td>\n",
       "      <td>1</td>\n",
       "      <td>0</td>\n",
       "      <td>1</td>\n",
       "      <td>0</td>\n",
       "      <td>2</td>\n",
       "      <td>2</td>\n",
       "      <td>0</td>\n",
       "      <td>2</td>\n",
       "      <td>1</td>\n",
       "      <td>2</td>\n",
       "      <td>0</td>\n",
       "      <td>2</td>\n",
       "      <td>1</td>\n",
       "      <td>0</td>\n",
       "      <td>1</td>\n",
       "    </tr>\n",
       "    <tr>\n",
       "      <th>4</th>\n",
       "      <td>1</td>\n",
       "      <td>299.6</td>\n",
       "      <td>47</td>\n",
       "      <td>4</td>\n",
       "      <td>2</td>\n",
       "      <td>3</td>\n",
       "      <td>0</td>\n",
       "      <td>2</td>\n",
       "      <td>2</td>\n",
       "      <td>2</td>\n",
       "      <td>2</td>\n",
       "      <td>0</td>\n",
       "      <td>2</td>\n",
       "      <td>1</td>\n",
       "      <td>2</td>\n",
       "      <td>0</td>\n",
       "      <td>2</td>\n",
       "      <td>1</td>\n",
       "      <td>1</td>\n",
       "      <td>1</td>\n",
       "    </tr>\n",
       "  </tbody>\n",
       "</table>\n",
       "</div>"
      ],
      "text/plain": [
       "   event   time  diagnosic-age  edjucation  marital-status  G  AB  BF  FH  \\\n",
       "0      0  334.2             46           2               2  2   1   1   0   \n",
       "1      0  328.9             35           1               2  2   0   1   0   \n",
       "2      0  310.4             41           2               2  2   0   1   0   \n",
       "3      0  309.7             48           2               2  1   0   1   0   \n",
       "4      1  299.6             47           4               2  3   0   2   2   \n",
       "\n",
       "   Surgery  T  N  stage  Path  Grade  LVI  hormone subgroup  CT  RT  HT  \n",
       "0        2  1  2      3     1      2    0                 2   1   1   1  \n",
       "1        1  3  0      2     1      2    0                 4   1   1   1  \n",
       "2        2  1  2      3     1      2    1                 2   1   1   1  \n",
       "3        2  2  0      2     1      2    0                 2   1   0   1  \n",
       "4        2  2  0      2     1      2    0                 2   1   1   1  "
      ]
     },
     "execution_count": 26,
     "metadata": {},
     "output_type": "execute_result"
    }
   ],
   "source": [
    "train_dataset_fp ='finaldata-June26.csv'\n",
    "df = pd.read_csv(train_dataset_fp)\n",
    "df.head()"
   ]
  },
  {
   "cell_type": "code",
   "execution_count": 27,
   "metadata": {
    "scrolled": false
   },
   "outputs": [
    {
     "data": {
      "image/png": "[encoded data removed]",
      "text/plain": [
       "<Figure size 1080x864 with 1 Axes>"
      ]
     },
     "metadata": {
      "needs_background": "light"
     },
     "output_type": "display_data"
    }
   ],
   "source": [
    "import seaborn as sns\n",
    "\n",
    "s = sns.displot(df, x=\"time\", hue=\"hormone subgroup\", multiple=\"stack\")\n",
    "s.set(xlabel='time(months)', ylabel='number of patients')\n",
    "plt.text(251+0.5,250, \"Luminal B\", horizontalalignment='left', size='medium', color='black', weight='normal')\n",
    "plt.text(251+0.5,242, \"Luminal A\", horizontalalignment='left', size='medium', color='black', weight='normal')\n",
    "plt.text(251+0.5,234, \"HER2-Enriched\", horizontalalignment='left', size='medium', color='black', weight='normal')\n",
    "plt.text(251+0.5,226, \"Triple-Negative\", horizontalalignment='left', size='medium', color='black', weight='normal')\n",
    "plt.gcf().set_size_inches(15, 12)\n",
    "sns.move_legend(s, \"center\", bbox_to_anchor=(.66, .66))  "
   ]
  },
  {
   "cell_type": "markdown",
   "metadata": {},
   "source": [
    "## Train-Test-Spilit"
   ]
  },
  {
   "cell_type": "code",
   "execution_count": 28,
   "metadata": {},
   "outputs": [],
   "source": [
    "df_train, df_test = train_test_split(df, test_size=test_size, random_state=seed, stratify=df[\"hormone subgroup\"])"
   ]
  },
  {
   "cell_type": "markdown",
   "metadata": {},
   "source": [
    "## Feature transforms\n",
    "\n",
    "The dataset has 18 covariates.\n",
    "We will standardize the 12 categorical covariates, and leave the binary covariates as is.\n",
    "Note that PyTorch require variables of type `'float32'`.\n",
    "\n",
    "Here we use the `sklearn_pandas.DataFrameMapper` to make feature mappers, but this has nothing to do the the `pycox` package."
   ]
  },
  {
   "cell_type": "code",
   "execution_count": 29,
   "metadata": {},
   "outputs": [],
   "source": [
    "cols_standardize = ['diagnosic-age',\n",
    "                    'edjucation', \n",
    "                    'G',\n",
    "                    'BF',\n",
    "                    'FH',\n",
    "                    'T',\n",
    "                    'N',\n",
    "                    'stage',\n",
    "                    'Grade',\n",
    "                    'CT','RT','hormone subgroup']\n",
    "cols_leave = ['marital-status', 'AB', 'Path', 'LVI', 'Surgery', 'HT']\n",
    "\n",
    "standardize = [([col], StandardScaler()) for col in cols_standardize]\n",
    "leave = [(col, None) for col in cols_leave]\n",
    "\n",
    "x_mapper = DataFrameMapper(standardize + leave)"
   ]
  },
  {
   "cell_type": "code",
   "execution_count": 30,
   "metadata": {},
   "outputs": [],
   "source": [
    "# apply scalar transformation!\n",
    "x_train = x_mapper.fit_transform(df_train).astype('float32')\n",
    "x_test = x_mapper.transform(df_test).astype('float32')"
   ]
  },
  {
   "cell_type": "code",
   "execution_count": 31,
   "metadata": {},
   "outputs": [
    {
     "name": "stdout",
     "output_type": "stream",
     "text": [
      "[(1, 101), (2, 435), (3, 54), (4, 126)]\n",
      "[(1, 402), (2, 1740), (3, 216), (4, 506)]\n"
     ]
    }
   ],
   "source": [
    "# Checking the distribution of `hormone subgroup`\n",
    "feature_index = 11 # hormone subgroup\n",
    "\n",
    "def get_feature_distribution(feature_index, dataset):\n",
    "    filtered_individuals = defaultdict(list)\n",
    "    dataset_reverse = standardize[feature_index][1].inverse_transform(dataset)\n",
    "\n",
    "    for i in range(len(dataset)):\n",
    "        individual = dataset_reverse[i]\n",
    "        filtered_individuals[int(individual[feature_index])].append(i)\n",
    "    print(sorted([(k, len(v)) for k, v in filtered_individuals.items()]))\n",
    "    return filtered_individuals\n",
    "get_feature_distribution(feature_index, x_test);\n",
    "get_feature_distribution(feature_index, x_train);"
   ]
  },
  {
   "cell_type": "markdown",
   "metadata": {},
   "source": [
    "## Label transforms\n",
    "\n",
    "The survival methods require individual label transforms, so we have included a proposed `label_transform` for each method.\n",
    "For most of them the `label_transform` is just a shorthand for the class `pycox.preprocessing.label_transforms.LabTransDiscreteTime`."
   ]
  },
  {
   "cell_type": "code",
   "execution_count": 32,
   "metadata": {},
   "outputs": [
    {
     "data": {
      "text/plain": [
       "(array([0, 1], dtype=int64), array([3146,  434], dtype=int64))"
      ]
     },
     "execution_count": 32,
     "metadata": {},
     "output_type": "execute_result"
    }
   ],
   "source": [
    "# events!\n",
    "np.unique(df['event'], return_counts=True)"
   ]
  },
  {
   "cell_type": "code",
   "execution_count": 33,
   "metadata": {},
   "outputs": [
    {
     "name": "stderr",
     "output_type": "stream",
     "text": [
      "C:\\Users\\Saba\\anaconda3\\lib\\site-packages\\sklearn\\utils\\validation.py:67: FutureWarning: Pass copy=True, with_mean=True, with_std=True as keyword args. From version 0.25 passing these as positional arguments will result in an error\n",
      "  warnings.warn(\"Pass {} as keyword args. From version 0.25 \"\n"
     ]
    },
    {
     "data": {
      "text/plain": [
       "<pycox.preprocessing.label_transforms.LabTransCoxTime at 0x2348cd84400>"
      ]
     },
     "execution_count": 33,
     "metadata": {},
     "output_type": "execute_result"
    }
   ],
   "source": [
    "label_translator = CoxTime.label_transform()\n",
    "get_features = lambda df: (df['time'].values, df['event'].values)\n",
    "label_translator.fit(*get_features(df_train))"
   ]
  },
  {
   "cell_type": "markdown",
   "metadata": {},
   "source": [
    "# K-Fold"
   ]
  },
  {
   "cell_type": "code",
   "execution_count": 34,
   "metadata": {},
   "outputs": [],
   "source": [
    "params = {  # search params\n",
    "        'learning_rate': [0.1, 0.01, 0.001],\n",
    "        'num_nodes': [[32, 32], [32, 64], [32, 64, 128], [32, 64, 128, 256]],\n",
    "        'dropout': [0.0, 0.1, 0.2, 0.3],\n",
    "        'batch_size': [256],\n",
    "    }\n",
    "\n",
    "cv = 5"
   ]
  },
  {
   "cell_type": "code",
   "execution_count": 35,
   "metadata": {},
   "outputs": [],
   "source": [
    "estimator = CoxTimeEstimator(label_translator, x_train.shape[1])\n",
    "gs = GridSearchCV(estimator, params, refit=True, cv=KFold(n_splits=cv), verbose=1, n_jobs=5)"
   ]
  },
  {
   "cell_type": "code",
   "execution_count": 36,
   "metadata": {},
   "outputs": [],
   "source": [
    "stack = lambda duration, event:np.hstack([duration.reshape((-1, 1)), event.reshape((-1, 1))])\n",
    "y_train = stack(*get_features(df_train))"
   ]
  },
  {
   "cell_type": "code",
   "execution_count": 37,
   "metadata": {},
   "outputs": [
    {
     "name": "stdout",
     "output_type": "stream",
     "text": [
      "Fitting 5 folds for each of 48 candidates, totalling 240 fits\n"
     ]
    },
    {
     "name": "stderr",
     "output_type": "stream",
     "text": [
      "[Parallel(n_jobs=5)]: Using backend LokyBackend with 5 concurrent workers.\n",
      "[Parallel(n_jobs=5)]: Done  40 tasks      | elapsed:  1.1min\n",
      "[Parallel(n_jobs=5)]: Done 190 tasks      | elapsed:  4.9min\n",
      "[Parallel(n_jobs=5)]: Done 240 out of 240 | elapsed:  6.2min finished\n"
     ]
    },
    {
     "data": {
      "text/plain": [
       "GridSearchCV(cv=KFold(n_splits=5, random_state=None, shuffle=False),\n",
       "             estimator=CoxTimeEstimator(in_features=18,\n",
       "                                        label_translator=<pycox.preprocessing.label_transforms.LabTransCoxTime object at 0x000002348CD84400>),\n",
       "             n_jobs=5,\n",
       "             param_grid={'batch_size': [256], 'dropout': [0.0, 0.1, 0.2, 0.3],\n",
       "                         'learning_rate': [0.1, 0.01, 0.001],\n",
       "                         'num_nodes': [[32, 32], [32, 64], [32, 64, 128],\n",
       "                                       [32, 64, 128, 256]]},\n",
       "             verbose=1)"
      ]
     },
     "execution_count": 37,
     "metadata": {},
     "output_type": "execute_result"
    }
   ],
   "source": [
    "gs.fit(x_train, y_train)"
   ]
  },
  {
   "cell_type": "code",
   "execution_count": 39,
   "metadata": {},
   "outputs": [
    {
     "name": "stdout",
     "output_type": "stream",
     "text": [
      "0.7829686397949981 {'batch_size': 256, 'dropout': 0.1, 'learning_rate': 0.1, 'num_nodes': [32, 32]}\n"
     ]
    }
   ],
   "source": [
    "print(gs.best_score_, gs.best_params_)"
   ]
  },
  {
   "cell_type": "code",
   "execution_count": 40,
   "metadata": {},
   "outputs": [
    {
     "data": {
      "text/plain": [
       "0.7358386944923898"
      ]
     },
     "execution_count": 40,
     "metadata": {},
     "output_type": "execute_result"
    }
   ],
   "source": [
    "durations_test, events_test = get_features(df_test)\n",
    "gs.score(x_test, np.hstack([durations_test.reshape((-1, 1)), events_test.reshape((-1, 1))]))"
   ]
  },
  {
   "cell_type": "code",
   "execution_count": 41,
   "metadata": {},
   "outputs": [],
   "source": [
    "estimator = CoxTimeEstimator(label_translator, x_train.shape[1], **gs.best_params_)"
   ]
  },
  {
   "cell_type": "code",
   "execution_count": 42,
   "metadata": {},
   "outputs": [
    {
     "data": {
      "text/plain": [
       "CoxTimeEstimator(dropout=0.1, in_features=18,\n",
       "                 label_translator=<pycox.preprocessing.label_transforms.LabTransCoxTime object at 0x000002348CD84400>,\n",
       "                 learning_rate=0.1)"
      ]
     },
     "execution_count": 42,
     "metadata": {},
     "output_type": "execute_result"
    }
   ],
   "source": [
    "estimator.fit(x_train, y_train)"
   ]
  },
  {
   "cell_type": "code",
   "execution_count": 43,
   "metadata": {},
   "outputs": [
    {
     "data": {
      "text/plain": [
       "0.7243841205083947"
      ]
     },
     "execution_count": 43,
     "metadata": {},
     "output_type": "execute_result"
    }
   ],
   "source": [
    "estimator.score_split(x_test, durations_test, events_test)"
   ]
  },
  {
   "cell_type": "code",
   "execution_count": 44,
   "metadata": {},
   "outputs": [
    {
     "data": {
      "text/plain": [
       "MLPVanillaCoxTime(\n",
       "  (net): MLPVanilla(\n",
       "    (net): Sequential(\n",
       "      (0): DenseVanillaBlock(\n",
       "        (linear): Linear(in_features=19, out_features=32, bias=True)\n",
       "        (activation): ReLU()\n",
       "        (batch_norm): BatchNorm1d(32, eps=1e-05, momentum=0.1, affine=True, track_running_stats=True)\n",
       "        (dropout): Dropout(p=0.1, inplace=False)\n",
       "      )\n",
       "      (1): DenseVanillaBlock(\n",
       "        (linear): Linear(in_features=32, out_features=32, bias=True)\n",
       "        (activation): ReLU()\n",
       "        (batch_norm): BatchNorm1d(32, eps=1e-05, momentum=0.1, affine=True, track_running_stats=True)\n",
       "        (dropout): Dropout(p=0.1, inplace=False)\n",
       "      )\n",
       "      (2): Linear(in_features=32, out_features=1, bias=False)\n",
       "    )\n",
       "  )\n",
       ")"
      ]
     },
     "execution_count": 44,
     "metadata": {},
     "output_type": "execute_result"
    }
   ],
   "source": [
    "model = estimator.model\n",
    "log = model.log\n",
    "model.net"
   ]
  },
  {
   "cell_type": "code",
   "execution_count": 45,
   "metadata": {},
   "outputs": [
    {
     "data": {
      "image/png": "[encoded data removed]",
      "text/plain": [
       "<Figure size 432x288 with 1 Axes>"
      ]
     },
     "metadata": {
      "needs_background": "light"
     },
     "output_type": "display_data"
    }
   ],
   "source": [
    "log.plot();"
   ]
  },
  {
   "cell_type": "markdown",
   "metadata": {},
   "source": [
    "Next, we set the `batch_size` and the number of training `epochs`.\n",
    "\n",
    "We also include the `EarlyStopping` callback to stop training when the validation loss stops improving."
   ]
  },
  {
   "cell_type": "code",
   "execution_count": 46,
   "metadata": {},
   "outputs": [
    {
     "data": {
      "text/plain": [
       "0.27303454279899597"
      ]
     },
     "execution_count": 46,
     "metadata": {},
     "output_type": "execute_result"
    }
   ],
   "source": [
    "log.to_pandas().val_loss.min()"
   ]
  },
  {
   "cell_type": "markdown",
   "metadata": {},
   "source": [
    "## Prediction\n",
    "\n",
    "For evaluation we first need to obtain survival estimates for the test set.\n",
    "This can be done with `model.predict_surv` which returns an array of survival estimates, or with `model.predict_surv_df` which returns the survival estimates as a dataframe."
   ]
  },
  {
   "cell_type": "code",
   "execution_count": 47,
   "metadata": {},
   "outputs": [
    {
     "data": {
      "text/html": [
       "<div>\n",
       "<style scoped>\n",
       "    .dataframe tbody tr th:only-of-type {\n",
       "        vertical-align: middle;\n",
       "    }\n",
       "\n",
       "    .dataframe tbody tr th {\n",
       "        vertical-align: top;\n",
       "    }\n",
       "\n",
       "    .dataframe thead th {\n",
       "        text-align: right;\n",
       "    }\n",
       "</style>\n",
       "<table border=\"1\" class=\"dataframe\">\n",
       "  <thead>\n",
       "    <tr style=\"text-align: right;\">\n",
       "      <th></th>\n",
       "      <th>0</th>\n",
       "      <th>1</th>\n",
       "      <th>2</th>\n",
       "      <th>3</th>\n",
       "      <th>4</th>\n",
       "      <th>5</th>\n",
       "      <th>6</th>\n",
       "      <th>7</th>\n",
       "      <th>8</th>\n",
       "      <th>9</th>\n",
       "      <th>...</th>\n",
       "      <th>706</th>\n",
       "      <th>707</th>\n",
       "      <th>708</th>\n",
       "      <th>709</th>\n",
       "      <th>710</th>\n",
       "      <th>711</th>\n",
       "      <th>712</th>\n",
       "      <th>713</th>\n",
       "      <th>714</th>\n",
       "      <th>715</th>\n",
       "    </tr>\n",
       "  </thead>\n",
       "  <tbody>\n",
       "    <tr>\n",
       "      <th>1.6</th>\n",
       "      <td>1.000000</td>\n",
       "      <td>1.000000</td>\n",
       "      <td>1.000000</td>\n",
       "      <td>1.000000</td>\n",
       "      <td>1.000000</td>\n",
       "      <td>1.000000</td>\n",
       "      <td>1.000000</td>\n",
       "      <td>1.000000</td>\n",
       "      <td>1.000000</td>\n",
       "      <td>1.000000</td>\n",
       "      <td>...</td>\n",
       "      <td>1.000000</td>\n",
       "      <td>1.000000</td>\n",
       "      <td>1.000000</td>\n",
       "      <td>1.000000</td>\n",
       "      <td>1.000000</td>\n",
       "      <td>1.000000</td>\n",
       "      <td>1.000000e+00</td>\n",
       "      <td>1.000000</td>\n",
       "      <td>1.000000</td>\n",
       "      <td>1.000000</td>\n",
       "    </tr>\n",
       "    <tr>\n",
       "      <th>2.0</th>\n",
       "      <td>1.000000</td>\n",
       "      <td>1.000000</td>\n",
       "      <td>1.000000</td>\n",
       "      <td>1.000000</td>\n",
       "      <td>1.000000</td>\n",
       "      <td>1.000000</td>\n",
       "      <td>1.000000</td>\n",
       "      <td>1.000000</td>\n",
       "      <td>1.000000</td>\n",
       "      <td>1.000000</td>\n",
       "      <td>...</td>\n",
       "      <td>1.000000</td>\n",
       "      <td>1.000000</td>\n",
       "      <td>1.000000</td>\n",
       "      <td>1.000000</td>\n",
       "      <td>1.000000</td>\n",
       "      <td>1.000000</td>\n",
       "      <td>1.000000e+00</td>\n",
       "      <td>1.000000</td>\n",
       "      <td>1.000000</td>\n",
       "      <td>1.000000</td>\n",
       "    </tr>\n",
       "    <tr>\n",
       "      <th>2.3</th>\n",
       "      <td>0.999999</td>\n",
       "      <td>1.000000</td>\n",
       "      <td>0.999922</td>\n",
       "      <td>0.999975</td>\n",
       "      <td>1.000000</td>\n",
       "      <td>0.999996</td>\n",
       "      <td>0.998127</td>\n",
       "      <td>0.999981</td>\n",
       "      <td>0.999998</td>\n",
       "      <td>0.999940</td>\n",
       "      <td>...</td>\n",
       "      <td>0.999995</td>\n",
       "      <td>0.999218</td>\n",
       "      <td>0.999930</td>\n",
       "      <td>0.999996</td>\n",
       "      <td>0.999988</td>\n",
       "      <td>0.999999</td>\n",
       "      <td>9.964924e-01</td>\n",
       "      <td>0.999999</td>\n",
       "      <td>0.999683</td>\n",
       "      <td>0.999999</td>\n",
       "    </tr>\n",
       "    <tr>\n",
       "      <th>3.0</th>\n",
       "      <td>0.999998</td>\n",
       "      <td>0.999999</td>\n",
       "      <td>0.999843</td>\n",
       "      <td>0.999950</td>\n",
       "      <td>1.000000</td>\n",
       "      <td>0.999992</td>\n",
       "      <td>0.996255</td>\n",
       "      <td>0.999963</td>\n",
       "      <td>0.999996</td>\n",
       "      <td>0.999879</td>\n",
       "      <td>...</td>\n",
       "      <td>0.999990</td>\n",
       "      <td>0.998435</td>\n",
       "      <td>0.999860</td>\n",
       "      <td>0.999993</td>\n",
       "      <td>0.999977</td>\n",
       "      <td>0.999997</td>\n",
       "      <td>9.929961e-01</td>\n",
       "      <td>0.999999</td>\n",
       "      <td>0.999365</td>\n",
       "      <td>0.999999</td>\n",
       "    </tr>\n",
       "    <tr>\n",
       "      <th>3.3</th>\n",
       "      <td>0.999998</td>\n",
       "      <td>0.999999</td>\n",
       "      <td>0.999843</td>\n",
       "      <td>0.999950</td>\n",
       "      <td>1.000000</td>\n",
       "      <td>0.999992</td>\n",
       "      <td>0.996255</td>\n",
       "      <td>0.999963</td>\n",
       "      <td>0.999996</td>\n",
       "      <td>0.999879</td>\n",
       "      <td>...</td>\n",
       "      <td>0.999990</td>\n",
       "      <td>0.998435</td>\n",
       "      <td>0.999860</td>\n",
       "      <td>0.999993</td>\n",
       "      <td>0.999977</td>\n",
       "      <td>0.999997</td>\n",
       "      <td>9.929961e-01</td>\n",
       "      <td>0.999999</td>\n",
       "      <td>0.999365</td>\n",
       "      <td>0.999999</td>\n",
       "    </tr>\n",
       "    <tr>\n",
       "      <th>...</th>\n",
       "      <td>...</td>\n",
       "      <td>...</td>\n",
       "      <td>...</td>\n",
       "      <td>...</td>\n",
       "      <td>...</td>\n",
       "      <td>...</td>\n",
       "      <td>...</td>\n",
       "      <td>...</td>\n",
       "      <td>...</td>\n",
       "      <td>...</td>\n",
       "      <td>...</td>\n",
       "      <td>...</td>\n",
       "      <td>...</td>\n",
       "      <td>...</td>\n",
       "      <td>...</td>\n",
       "      <td>...</td>\n",
       "      <td>...</td>\n",
       "      <td>...</td>\n",
       "      <td>...</td>\n",
       "      <td>...</td>\n",
       "      <td>...</td>\n",
       "    </tr>\n",
       "    <tr>\n",
       "      <th>293.7</th>\n",
       "      <td>0.930942</td>\n",
       "      <td>0.935941</td>\n",
       "      <td>0.236014</td>\n",
       "      <td>0.926456</td>\n",
       "      <td>0.976482</td>\n",
       "      <td>0.849514</td>\n",
       "      <td>0.000385</td>\n",
       "      <td>0.693978</td>\n",
       "      <td>0.862893</td>\n",
       "      <td>0.794195</td>\n",
       "      <td>...</td>\n",
       "      <td>0.943418</td>\n",
       "      <td>0.002930</td>\n",
       "      <td>0.103643</td>\n",
       "      <td>0.769835</td>\n",
       "      <td>0.778413</td>\n",
       "      <td>0.883004</td>\n",
       "      <td>4.883350e-09</td>\n",
       "      <td>0.939780</td>\n",
       "      <td>0.059119</td>\n",
       "      <td>0.956252</td>\n",
       "    </tr>\n",
       "    <tr>\n",
       "      <th>294.0</th>\n",
       "      <td>0.930942</td>\n",
       "      <td>0.935941</td>\n",
       "      <td>0.236014</td>\n",
       "      <td>0.926456</td>\n",
       "      <td>0.976482</td>\n",
       "      <td>0.849514</td>\n",
       "      <td>0.000385</td>\n",
       "      <td>0.693978</td>\n",
       "      <td>0.862893</td>\n",
       "      <td>0.794195</td>\n",
       "      <td>...</td>\n",
       "      <td>0.943418</td>\n",
       "      <td>0.002930</td>\n",
       "      <td>0.103643</td>\n",
       "      <td>0.769835</td>\n",
       "      <td>0.778413</td>\n",
       "      <td>0.883004</td>\n",
       "      <td>4.883350e-09</td>\n",
       "      <td>0.939780</td>\n",
       "      <td>0.059119</td>\n",
       "      <td>0.956252</td>\n",
       "    </tr>\n",
       "    <tr>\n",
       "      <th>309.7</th>\n",
       "      <td>0.930942</td>\n",
       "      <td>0.935941</td>\n",
       "      <td>0.236014</td>\n",
       "      <td>0.926456</td>\n",
       "      <td>0.976482</td>\n",
       "      <td>0.849514</td>\n",
       "      <td>0.000385</td>\n",
       "      <td>0.693978</td>\n",
       "      <td>0.862893</td>\n",
       "      <td>0.794195</td>\n",
       "      <td>...</td>\n",
       "      <td>0.943418</td>\n",
       "      <td>0.002930</td>\n",
       "      <td>0.103643</td>\n",
       "      <td>0.769835</td>\n",
       "      <td>0.778413</td>\n",
       "      <td>0.883004</td>\n",
       "      <td>4.883350e-09</td>\n",
       "      <td>0.939780</td>\n",
       "      <td>0.059119</td>\n",
       "      <td>0.956252</td>\n",
       "    </tr>\n",
       "    <tr>\n",
       "      <th>328.9</th>\n",
       "      <td>0.930942</td>\n",
       "      <td>0.935941</td>\n",
       "      <td>0.236014</td>\n",
       "      <td>0.926456</td>\n",
       "      <td>0.976482</td>\n",
       "      <td>0.849514</td>\n",
       "      <td>0.000385</td>\n",
       "      <td>0.693978</td>\n",
       "      <td>0.862893</td>\n",
       "      <td>0.794195</td>\n",
       "      <td>...</td>\n",
       "      <td>0.943418</td>\n",
       "      <td>0.002930</td>\n",
       "      <td>0.103643</td>\n",
       "      <td>0.769835</td>\n",
       "      <td>0.778413</td>\n",
       "      <td>0.883004</td>\n",
       "      <td>4.883350e-09</td>\n",
       "      <td>0.939780</td>\n",
       "      <td>0.059119</td>\n",
       "      <td>0.956252</td>\n",
       "    </tr>\n",
       "    <tr>\n",
       "      <th>334.2</th>\n",
       "      <td>0.930942</td>\n",
       "      <td>0.935941</td>\n",
       "      <td>0.236014</td>\n",
       "      <td>0.926456</td>\n",
       "      <td>0.976482</td>\n",
       "      <td>0.849514</td>\n",
       "      <td>0.000385</td>\n",
       "      <td>0.693978</td>\n",
       "      <td>0.862893</td>\n",
       "      <td>0.794195</td>\n",
       "      <td>...</td>\n",
       "      <td>0.943418</td>\n",
       "      <td>0.002930</td>\n",
       "      <td>0.103643</td>\n",
       "      <td>0.769835</td>\n",
       "      <td>0.778413</td>\n",
       "      <td>0.883004</td>\n",
       "      <td>4.883350e-09</td>\n",
       "      <td>0.939780</td>\n",
       "      <td>0.059119</td>\n",
       "      <td>0.956252</td>\n",
       "    </tr>\n",
       "  </tbody>\n",
       "</table>\n",
       "<p>1224 rows × 716 columns</p>\n",
       "</div>"
      ],
      "text/plain": [
       "            0         1         2         3         4         5         6    \\\n",
       "1.6    1.000000  1.000000  1.000000  1.000000  1.000000  1.000000  1.000000   \n",
       "2.0    1.000000  1.000000  1.000000  1.000000  1.000000  1.000000  1.000000   \n",
       "2.3    0.999999  1.000000  0.999922  0.999975  1.000000  0.999996  0.998127   \n",
       "3.0    0.999998  0.999999  0.999843  0.999950  1.000000  0.999992  0.996255   \n",
       "3.3    0.999998  0.999999  0.999843  0.999950  1.000000  0.999992  0.996255   \n",
       "...         ...       ...       ...       ...       ...       ...       ...   \n",
       "293.7  0.930942  0.935941  0.236014  0.926456  0.976482  0.849514  0.000385   \n",
       "294.0  0.930942  0.935941  0.236014  0.926456  0.976482  0.849514  0.000385   \n",
       "309.7  0.930942  0.935941  0.236014  0.926456  0.976482  0.849514  0.000385   \n",
       "328.9  0.930942  0.935941  0.236014  0.926456  0.976482  0.849514  0.000385   \n",
       "334.2  0.930942  0.935941  0.236014  0.926456  0.976482  0.849514  0.000385   \n",
       "\n",
       "            7         8         9    ...       706       707       708  \\\n",
       "1.6    1.000000  1.000000  1.000000  ...  1.000000  1.000000  1.000000   \n",
       "2.0    1.000000  1.000000  1.000000  ...  1.000000  1.000000  1.000000   \n",
       "2.3    0.999981  0.999998  0.999940  ...  0.999995  0.999218  0.999930   \n",
       "3.0    0.999963  0.999996  0.999879  ...  0.999990  0.998435  0.999860   \n",
       "3.3    0.999963  0.999996  0.999879  ...  0.999990  0.998435  0.999860   \n",
       "...         ...       ...       ...  ...       ...       ...       ...   \n",
       "293.7  0.693978  0.862893  0.794195  ...  0.943418  0.002930  0.103643   \n",
       "294.0  0.693978  0.862893  0.794195  ...  0.943418  0.002930  0.103643   \n",
       "309.7  0.693978  0.862893  0.794195  ...  0.943418  0.002930  0.103643   \n",
       "328.9  0.693978  0.862893  0.794195  ...  0.943418  0.002930  0.103643   \n",
       "334.2  0.693978  0.862893  0.794195  ...  0.943418  0.002930  0.103643   \n",
       "\n",
       "            709       710       711           712       713       714  \\\n",
       "1.6    1.000000  1.000000  1.000000  1.000000e+00  1.000000  1.000000   \n",
       "2.0    1.000000  1.000000  1.000000  1.000000e+00  1.000000  1.000000   \n",
       "2.3    0.999996  0.999988  0.999999  9.964924e-01  0.999999  0.999683   \n",
       "3.0    0.999993  0.999977  0.999997  9.929961e-01  0.999999  0.999365   \n",
       "3.3    0.999993  0.999977  0.999997  9.929961e-01  0.999999  0.999365   \n",
       "...         ...       ...       ...           ...       ...       ...   \n",
       "293.7  0.769835  0.778413  0.883004  4.883350e-09  0.939780  0.059119   \n",
       "294.0  0.769835  0.778413  0.883004  4.883350e-09  0.939780  0.059119   \n",
       "309.7  0.769835  0.778413  0.883004  4.883350e-09  0.939780  0.059119   \n",
       "328.9  0.769835  0.778413  0.883004  4.883350e-09  0.939780  0.059119   \n",
       "334.2  0.769835  0.778413  0.883004  4.883350e-09  0.939780  0.059119   \n",
       "\n",
       "            715  \n",
       "1.6    1.000000  \n",
       "2.0    1.000000  \n",
       "2.3    0.999999  \n",
       "3.0    0.999999  \n",
       "3.3    0.999999  \n",
       "...         ...  \n",
       "293.7  0.956252  \n",
       "294.0  0.956252  \n",
       "309.7  0.956252  \n",
       "328.9  0.956252  \n",
       "334.2  0.956252  \n",
       "\n",
       "[1224 rows x 716 columns]"
      ]
     },
     "execution_count": 47,
     "metadata": {},
     "output_type": "execute_result"
    }
   ],
   "source": [
    "surv = model.predict_surv_df(x_test)\n",
    "surv\n",
    "# columns are sample indices, values are the probability of the events"
   ]
  },
  {
   "cell_type": "markdown",
   "metadata": {},
   "source": [
    "## Evaluation\n",
    "\n",
    "The `EvalSurv` class contains some useful evaluation criteria for time-to-event prediction.\n",
    "We set `censor_surv = 'km'` to state that we want to use Kaplan-Meier for estimating the censoring distribution.\n"
   ]
  },
  {
   "cell_type": "code",
   "execution_count": 29,
   "metadata": {},
   "outputs": [
    {
     "name": "stderr",
     "output_type": "stream",
     "text": [
      "C:\\Users\\pooya\\miniconda3\\envs\\torch_gpu\\lib\\site-packages\\pycox\\evaluation\\eval_surv.py:36: FutureWarning: is_monotonic is deprecated and will be removed in a future version. Use is_monotonic_increasing instead.\n",
      "  assert pd.Series(self.index_surv).is_monotonic\n"
     ]
    }
   ],
   "source": [
    "ev = EvalSurv(surv, durations_test, events_test, censor_surv='km')"
   ]
  },
  {
   "cell_type": "markdown",
   "metadata": {},
   "source": [
    "#### Concordance\n",
    "\n",
    "We start with the event-time concordance by [Antolini et al. 2005](https://onlinelibrary.wiley.com/doi/10.1002/sim.2427)."
   ]
  },
  {
   "cell_type": "code",
   "execution_count": 30,
   "metadata": {},
   "outputs": [
    {
     "data": {
      "text/plain": [
       "0.7504315079240546"
      ]
     },
     "execution_count": 30,
     "metadata": {},
     "output_type": "execute_result"
    }
   ],
   "source": [
    "ev.concordance_td('adj_antolini')"
   ]
  },
  {
   "cell_type": "markdown",
   "metadata": {},
   "source": [
    "#### Brier Score\n",
    "\n",
    "We can plot the the [IPCW Brier score](https://onlinelibrary.wiley.com/doi/abs/10.1002/%28SICI%291097-0258%2819990915/30%2918%3A17/18%3C2529%3A%3AAID-SIM274%3E3.0.CO%3B2-5) for a given set of times.\n",
    "Here we just use 100 time-points between the min and max duration in the test set.\n",
    "Note that the score becomes unstable for the highest times. It is therefore common to disregard the rightmost part of the graph."
   ]
  },
  {
   "cell_type": "code",
   "execution_count": 31,
   "metadata": {},
   "outputs": [
    {
     "data": {
      "image/png": "[encoded data removed]",
      "text/plain": [
       "<Figure size 640x480 with 1 Axes>"
      ]
     },
     "metadata": {},
     "output_type": "display_data"
    }
   ],
   "source": [
    "time_grid = np.linspace(durations_test.min(), durations_test.max(), 100)\n",
    "ev.brier_score(time_grid).plot()\n",
    "plt.ylabel('Brier score of Nnet-survival Model')\n",
    "_ = plt.xlabel('Time(month)')"
   ]
  },
  {
   "cell_type": "markdown",
   "metadata": {},
   "source": [
    "#### Negative binomial log-likelihood\n",
    "\n",
    "In a similar manner, we can plot the the [IPCW negative binomial log-likelihood](https://onlinelibrary.wiley.com/doi/abs/10.1002/%28SICI%291097-0258%2819990915/30%2918%3A17/18%3C2529%3A%3AAID-SIM274%3E3.0.CO%3B2-5)."
   ]
  },
  {
   "cell_type": "code",
   "execution_count": 32,
   "metadata": {
    "scrolled": true
   },
   "outputs": [
    {
     "data": {
      "image/png": "[encoded data removed]",
      "text/plain": [
       "<Figure size 640x480 with 1 Axes>"
      ]
     },
     "metadata": {},
     "output_type": "display_data"
    }
   ],
   "source": [
    "ev.nbll(time_grid).plot()\n",
    "plt.ylabel('NBLL')\n",
    "_ = plt.xlabel('Time')"
   ]
  },
  {
   "cell_type": "markdown",
   "metadata": {},
   "source": [
    "#### Integrated scores\n",
    "\n",
    "The two time-dependent scores above can be integrated over time to produce a single score [Graf et al. 1999](https://onlinelibrary.wiley.com/doi/abs/10.1002/%28SICI%291097-0258%2819990915/30%2918%3A17/18%3C2529%3A%3AAID-SIM274%3E3.0.CO%3B2-5). In practice this is done by numerical integration over a defined `time_grid`."
   ]
  },
  {
   "cell_type": "code",
   "execution_count": 33,
   "metadata": {},
   "outputs": [
    {
     "data": {
      "text/plain": [
       "0.15124683918563567"
      ]
     },
     "execution_count": 33,
     "metadata": {},
     "output_type": "execute_result"
    }
   ],
   "source": [
    "ev.integrated_brier_score(time_grid) "
   ]
  },
  {
   "cell_type": "code",
   "execution_count": 34,
   "metadata": {},
   "outputs": [
    {
     "data": {
      "text/plain": [
       "0.46552419515825544"
      ]
     },
     "execution_count": 34,
     "metadata": {},
     "output_type": "execute_result"
    }
   ],
   "source": [
    "ev.integrated_nbll(time_grid) "
   ]
  },
  {
   "cell_type": "markdown",
   "metadata": {},
   "source": [
    "*_:-)_*"
   ]
  }
 ],
 "metadata": {
  "kernelspec": {
   "display_name": "Python 3",
   "language": "python",
   "name": "python3"
  },
  "language_info": {
   "codemirror_mode": {
    "name": "ipython",
    "version": 3
   },
   "file_extension": ".py",
   "mimetype": "text/x-python",
   "name": "python",
   "nbconvert_exporter": "python",
   "pygments_lexer": "ipython3",
   "version": "3.8.5"
  }
 },
 "nbformat": 4,
 "nbformat_minor": 4
}
