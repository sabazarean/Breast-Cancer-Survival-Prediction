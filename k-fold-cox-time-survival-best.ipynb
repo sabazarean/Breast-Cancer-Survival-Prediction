{
 "cells": [
  {
   "cell_type": "markdown",
   "metadata": {},
   "source": [
    "## Imports\n",
    "\n",
    "You need `sklearn-pandas` which can be installed by uncommenting the following block"
   ]
  },
  {
   "cell_type": "code",
   "execution_count": 1,
   "metadata": {},
   "outputs": [],
   "source": [
    "import numpy as np\n",
    "import matplotlib.pyplot as plt\n",
    "\n",
    "# For preprocessing\n",
    "from sklearn.preprocessing import StandardScaler\n",
    "from sklearn.model_selection import train_test_split\n",
    "from sklearn_pandas import DataFrameMapper \n",
    "from pycox.evaluation import EvalSurv\n",
    "from pycox.models import CoxTime\n",
    "import pandas as pd\n",
    "import torch # For building the networks \n",
    "from sklearn.model_selection import KFold, GridSearchCV\n",
    "from estimators import CoxTimeEstimator\n",
    "import torchtuples as tt # Some useful functions\n",
    "from collections import defaultdict"
   ]
  },
  {
   "cell_type": "code",
   "execution_count": 2,
   "metadata": {},
   "outputs": [],
   "source": [
    "import warnings\n",
    "warnings.filterwarnings('ignore')"
   ]
  },
  {
   "cell_type": "code",
   "execution_count": 3,
   "metadata": {},
   "outputs": [],
   "source": [
    "# Hyper-parameters\n",
    "test_size = 0.2\n",
    "train_size = 0.8\n",
    "assert test_size + train_size == 1, \"total size is not equal to 1\""
   ]
  },
  {
   "cell_type": "code",
   "execution_count": 4,
   "metadata": {},
   "outputs": [],
   "source": [
    "# We also set some seeds to make this reproducable.\n",
    "# Note that on gpu, there is still some randomness.\n",
    "seed = 1234\n",
    "np.random.seed(seed)\n",
    "torch.manual_seed(seed);"
   ]
  },
  {
   "cell_type": "markdown",
   "metadata": {},
   "source": [
    "## Dataset\n",
    "\n",
    "We load data from an Iranian Institution\n",
    "\n",
    "The `duration` column gives the observed times and the `event` column contains indicators of whether the observation is an event (1) or a censored observation (0)."
   ]
  },
  {
   "cell_type": "code",
   "execution_count": 5,
   "metadata": {},
   "outputs": [
    {
     "data": {
      "text/html": [
       "<div>\n",
       "<style scoped>\n",
       "    .dataframe tbody tr th:only-of-type {\n",
       "        vertical-align: middle;\n",
       "    }\n",
       "\n",
       "    .dataframe tbody tr th {\n",
       "        vertical-align: top;\n",
       "    }\n",
       "\n",
       "    .dataframe thead th {\n",
       "        text-align: right;\n",
       "    }\n",
       "</style>\n",
       "<table border=\"1\" class=\"dataframe\">\n",
       "  <thead>\n",
       "    <tr style=\"text-align: right;\">\n",
       "      <th></th>\n",
       "      <th>event</th>\n",
       "      <th>time</th>\n",
       "      <th>diagnosic-age</th>\n",
       "      <th>edjucation</th>\n",
       "      <th>marital-status</th>\n",
       "      <th>G</th>\n",
       "      <th>AB</th>\n",
       "      <th>BF</th>\n",
       "      <th>FH</th>\n",
       "      <th>Surgery</th>\n",
       "      <th>T</th>\n",
       "      <th>N</th>\n",
       "      <th>stage</th>\n",
       "      <th>Path</th>\n",
       "      <th>Grade</th>\n",
       "      <th>LVI</th>\n",
       "      <th>hormone subgroup</th>\n",
       "      <th>CT</th>\n",
       "      <th>RT</th>\n",
       "      <th>HT</th>\n",
       "    </tr>\n",
       "  </thead>\n",
       "  <tbody>\n",
       "    <tr>\n",
       "      <th>0</th>\n",
       "      <td>0</td>\n",
       "      <td>334.2</td>\n",
       "      <td>46</td>\n",
       "      <td>2</td>\n",
       "      <td>2</td>\n",
       "      <td>2</td>\n",
       "      <td>1</td>\n",
       "      <td>1</td>\n",
       "      <td>0</td>\n",
       "      <td>2</td>\n",
       "      <td>1</td>\n",
       "      <td>2</td>\n",
       "      <td>3</td>\n",
       "      <td>1</td>\n",
       "      <td>2</td>\n",
       "      <td>0</td>\n",
       "      <td>2</td>\n",
       "      <td>1</td>\n",
       "      <td>1</td>\n",
       "      <td>1</td>\n",
       "    </tr>\n",
       "    <tr>\n",
       "      <th>1</th>\n",
       "      <td>0</td>\n",
       "      <td>328.9</td>\n",
       "      <td>35</td>\n",
       "      <td>1</td>\n",
       "      <td>2</td>\n",
       "      <td>2</td>\n",
       "      <td>0</td>\n",
       "      <td>1</td>\n",
       "      <td>0</td>\n",
       "      <td>1</td>\n",
       "      <td>3</td>\n",
       "      <td>0</td>\n",
       "      <td>2</td>\n",
       "      <td>1</td>\n",
       "      <td>2</td>\n",
       "      <td>0</td>\n",
       "      <td>4</td>\n",
       "      <td>1</td>\n",
       "      <td>1</td>\n",
       "      <td>1</td>\n",
       "    </tr>\n",
       "    <tr>\n",
       "      <th>2</th>\n",
       "      <td>0</td>\n",
       "      <td>310.4</td>\n",
       "      <td>41</td>\n",
       "      <td>2</td>\n",
       "      <td>2</td>\n",
       "      <td>2</td>\n",
       "      <td>0</td>\n",
       "      <td>1</td>\n",
       "      <td>0</td>\n",
       "      <td>2</td>\n",
       "      <td>1</td>\n",
       "      <td>2</td>\n",
       "      <td>3</td>\n",
       "      <td>1</td>\n",
       "      <td>2</td>\n",
       "      <td>1</td>\n",
       "      <td>2</td>\n",
       "      <td>1</td>\n",
       "      <td>1</td>\n",
       "      <td>1</td>\n",
       "    </tr>\n",
       "    <tr>\n",
       "      <th>3</th>\n",
       "      <td>0</td>\n",
       "      <td>309.7</td>\n",
       "      <td>48</td>\n",
       "      <td>2</td>\n",
       "      <td>2</td>\n",
       "      <td>1</td>\n",
       "      <td>0</td>\n",
       "      <td>1</td>\n",
       "      <td>0</td>\n",
       "      <td>2</td>\n",
       "      <td>2</td>\n",
       "      <td>0</td>\n",
       "      <td>2</td>\n",
       "      <td>1</td>\n",
       "      <td>2</td>\n",
       "      <td>0</td>\n",
       "      <td>2</td>\n",
       "      <td>1</td>\n",
       "      <td>0</td>\n",
       "      <td>1</td>\n",
       "    </tr>\n",
       "    <tr>\n",
       "      <th>4</th>\n",
       "      <td>1</td>\n",
       "      <td>299.6</td>\n",
       "      <td>47</td>\n",
       "      <td>4</td>\n",
       "      <td>2</td>\n",
       "      <td>3</td>\n",
       "      <td>0</td>\n",
       "      <td>2</td>\n",
       "      <td>2</td>\n",
       "      <td>2</td>\n",
       "      <td>2</td>\n",
       "      <td>0</td>\n",
       "      <td>2</td>\n",
       "      <td>1</td>\n",
       "      <td>2</td>\n",
       "      <td>0</td>\n",
       "      <td>2</td>\n",
       "      <td>1</td>\n",
       "      <td>1</td>\n",
       "      <td>1</td>\n",
       "    </tr>\n",
       "    <tr>\n",
       "      <th>...</th>\n",
       "      <td>...</td>\n",
       "      <td>...</td>\n",
       "      <td>...</td>\n",
       "      <td>...</td>\n",
       "      <td>...</td>\n",
       "      <td>...</td>\n",
       "      <td>...</td>\n",
       "      <td>...</td>\n",
       "      <td>...</td>\n",
       "      <td>...</td>\n",
       "      <td>...</td>\n",
       "      <td>...</td>\n",
       "      <td>...</td>\n",
       "      <td>...</td>\n",
       "      <td>...</td>\n",
       "      <td>...</td>\n",
       "      <td>...</td>\n",
       "      <td>...</td>\n",
       "      <td>...</td>\n",
       "      <td>...</td>\n",
       "    </tr>\n",
       "    <tr>\n",
       "      <th>95</th>\n",
       "      <td>0</td>\n",
       "      <td>211.1</td>\n",
       "      <td>47</td>\n",
       "      <td>2</td>\n",
       "      <td>2</td>\n",
       "      <td>2</td>\n",
       "      <td>1</td>\n",
       "      <td>1</td>\n",
       "      <td>1</td>\n",
       "      <td>2</td>\n",
       "      <td>1</td>\n",
       "      <td>0</td>\n",
       "      <td>1</td>\n",
       "      <td>1</td>\n",
       "      <td>3</td>\n",
       "      <td>0</td>\n",
       "      <td>2</td>\n",
       "      <td>0</td>\n",
       "      <td>0</td>\n",
       "      <td>1</td>\n",
       "    </tr>\n",
       "    <tr>\n",
       "      <th>96</th>\n",
       "      <td>0</td>\n",
       "      <td>210.8</td>\n",
       "      <td>36</td>\n",
       "      <td>1</td>\n",
       "      <td>2</td>\n",
       "      <td>0</td>\n",
       "      <td>0</td>\n",
       "      <td>0</td>\n",
       "      <td>0</td>\n",
       "      <td>2</td>\n",
       "      <td>1</td>\n",
       "      <td>0</td>\n",
       "      <td>1</td>\n",
       "      <td>1</td>\n",
       "      <td>1</td>\n",
       "      <td>0</td>\n",
       "      <td>2</td>\n",
       "      <td>1</td>\n",
       "      <td>1</td>\n",
       "      <td>1</td>\n",
       "    </tr>\n",
       "    <tr>\n",
       "      <th>97</th>\n",
       "      <td>0</td>\n",
       "      <td>210.6</td>\n",
       "      <td>54</td>\n",
       "      <td>1</td>\n",
       "      <td>2</td>\n",
       "      <td>3</td>\n",
       "      <td>1</td>\n",
       "      <td>1</td>\n",
       "      <td>2</td>\n",
       "      <td>2</td>\n",
       "      <td>2</td>\n",
       "      <td>0</td>\n",
       "      <td>2</td>\n",
       "      <td>1</td>\n",
       "      <td>2</td>\n",
       "      <td>0</td>\n",
       "      <td>2</td>\n",
       "      <td>0</td>\n",
       "      <td>1</td>\n",
       "      <td>1</td>\n",
       "    </tr>\n",
       "    <tr>\n",
       "      <th>98</th>\n",
       "      <td>0</td>\n",
       "      <td>208.9</td>\n",
       "      <td>41</td>\n",
       "      <td>1</td>\n",
       "      <td>2</td>\n",
       "      <td>1</td>\n",
       "      <td>0</td>\n",
       "      <td>1</td>\n",
       "      <td>0</td>\n",
       "      <td>2</td>\n",
       "      <td>2</td>\n",
       "      <td>0</td>\n",
       "      <td>2</td>\n",
       "      <td>1</td>\n",
       "      <td>2</td>\n",
       "      <td>0</td>\n",
       "      <td>4</td>\n",
       "      <td>1</td>\n",
       "      <td>1</td>\n",
       "      <td>1</td>\n",
       "    </tr>\n",
       "    <tr>\n",
       "      <th>99</th>\n",
       "      <td>0</td>\n",
       "      <td>208.5</td>\n",
       "      <td>52</td>\n",
       "      <td>5</td>\n",
       "      <td>2</td>\n",
       "      <td>3</td>\n",
       "      <td>0</td>\n",
       "      <td>3</td>\n",
       "      <td>0</td>\n",
       "      <td>2</td>\n",
       "      <td>2</td>\n",
       "      <td>0</td>\n",
       "      <td>2</td>\n",
       "      <td>1</td>\n",
       "      <td>2</td>\n",
       "      <td>0</td>\n",
       "      <td>4</td>\n",
       "      <td>0</td>\n",
       "      <td>1</td>\n",
       "      <td>0</td>\n",
       "    </tr>\n",
       "  </tbody>\n",
       "</table>\n",
       "<p>100 rows × 20 columns</p>\n",
       "</div>"
      ],
      "text/plain": [
       "    event   time  diagnosic-age  edjucation  marital-status  G  AB  BF  FH  \\\n",
       "0       0  334.2             46           2               2  2   1   1   0   \n",
       "1       0  328.9             35           1               2  2   0   1   0   \n",
       "2       0  310.4             41           2               2  2   0   1   0   \n",
       "3       0  309.7             48           2               2  1   0   1   0   \n",
       "4       1  299.6             47           4               2  3   0   2   2   \n",
       "..    ...    ...            ...         ...             ... ..  ..  ..  ..   \n",
       "95      0  211.1             47           2               2  2   1   1   1   \n",
       "96      0  210.8             36           1               2  0   0   0   0   \n",
       "97      0  210.6             54           1               2  3   1   1   2   \n",
       "98      0  208.9             41           1               2  1   0   1   0   \n",
       "99      0  208.5             52           5               2  3   0   3   0   \n",
       "\n",
       "    Surgery  T  N  stage  Path  Grade  LVI  hormone subgroup  CT  RT  HT  \n",
       "0         2  1  2      3     1      2    0                 2   1   1   1  \n",
       "1         1  3  0      2     1      2    0                 4   1   1   1  \n",
       "2         2  1  2      3     1      2    1                 2   1   1   1  \n",
       "3         2  2  0      2     1      2    0                 2   1   0   1  \n",
       "4         2  2  0      2     1      2    0                 2   1   1   1  \n",
       "..      ... .. ..    ...   ...    ...  ...               ...  ..  ..  ..  \n",
       "95        2  1  0      1     1      3    0                 2   0   0   1  \n",
       "96        2  1  0      1     1      1    0                 2   1   1   1  \n",
       "97        2  2  0      2     1      2    0                 2   0   1   1  \n",
       "98        2  2  0      2     1      2    0                 4   1   1   1  \n",
       "99        2  2  0      2     1      2    0                 4   0   1   0  \n",
       "\n",
       "[100 rows x 20 columns]"
      ]
     },
     "execution_count": 5,
     "metadata": {},
     "output_type": "execute_result"
    }
   ],
   "source": [
    "train_dataset_fp ='finaldata-June26.csv'\n",
    "df = pd.read_csv(train_dataset_fp)\n",
    "df.head(100)"
   ]
  },
  {
   "cell_type": "code",
   "execution_count": 6,
   "metadata": {
    "scrolled": false
   },
   "outputs": [
    {
     "data": {
      "image/png": "[encoded data removed]",
      "text/plain": [
       "<Figure size 1500x1200 with 1 Axes>"
      ]
     },
     "metadata": {},
     "output_type": "display_data"
    }
   ],
   "source": [
    "import seaborn as sns\n",
    "\n",
    "s = sns.displot(df, x=\"time\", hue=\"hormone subgroup\", multiple=\"stack\")\n",
    "s.set(xlabel='time(months)', ylabel='number of patients')\n",
    "plt.gcf().set_size_inches(15, 12)\n",
    "sns.move_legend(s, \"center\", bbox_to_anchor=(.66, .66))  "
   ]
  },
  {
   "cell_type": "code",
   "execution_count": 7,
   "metadata": {},
   "outputs": [
    {
     "data": {
      "image/png": "[encoded data removed]",
      "text/plain": [
       "<Figure size 500x500 with 1 Axes>"
      ]
     },
     "metadata": {},
     "output_type": "display_data"
    }
   ],
   "source": [
    "sns.catplot(x=\"hormone subgroup\", kind=\"count\", palette=\"ch:.25\", data=df);"
   ]
  },
  {
   "cell_type": "code",
   "execution_count": 8,
   "metadata": {},
   "outputs": [
    {
     "data": {
      "text/plain": [
       "<AxesSubplot: xlabel='count', ylabel='hormone subgroup'>"
      ]
     },
     "execution_count": 8,
     "metadata": {},
     "output_type": "execute_result"
    },
    {
     "data": {
      "image/png": "[encoded data removed]",
      "text/plain": [
       "<Figure size 700x300 with 1 Axes>"
      ]
     },
     "metadata": {},
     "output_type": "display_data"
    }
   ],
   "source": [
    "f, ax = plt.subplots(figsize=(7, 3))\n",
    "sns.countplot(y=\"hormone subgroup\", data=df, color=\"c\")"
   ]
  },
  {
   "cell_type": "code",
   "execution_count": 9,
   "metadata": {},
   "outputs": [],
   "source": [
    "df_train, df_test = train_test_split(df, test_size=test_size, random_state=seed, stratify=df[\"hormone subgroup\"])"
   ]
  },
  {
   "cell_type": "markdown",
   "metadata": {},
   "source": [
    "## Feature transforms\n",
    "\n",
    "The METABRIC dataset has  9 covariates: `x0, ..., x8`.\n",
    "We will standardize the 5 numerical covariates, and leave the binary covariates as is.\n",
    "Note that PyTorch require variables of type `'float32'`.\n",
    "\n",
    "Here we use the `sklearn_pandas.DataFrameMapper` to make feature mappers, but this has nothing to do the the `pycox` package."
   ]
  },
  {
   "cell_type": "code",
   "execution_count": 10,
   "metadata": {},
   "outputs": [],
   "source": [
    "cols_standardize = ['diagnosic-age',\n",
    "                    'edjucation', \n",
    "                    'G',\n",
    "                    'BF',\n",
    "                    'FH',\n",
    "                    'T',\n",
    "                    'N',\n",
    "                    'stage',\n",
    "                    'Grade',\n",
    "                    'CT','RT','hormone subgroup']\n",
    "cols_leave = ['marital-status', 'AB', 'Path', 'LVI', 'Surgery', 'HT']\n",
    "\n",
    "standardize = [([col], StandardScaler()) for col in cols_standardize]\n",
    "leave = [(col, None) for col in cols_leave]\n",
    "\n",
    "x_mapper = DataFrameMapper(standardize + leave)"
   ]
  },
  {
   "cell_type": "code",
   "execution_count": 11,
   "metadata": {},
   "outputs": [],
   "source": [
    "# apply scalar transformation!\n",
    "x_train = x_mapper.fit_transform(df_train).astype('float32')\n",
    "x_test = x_mapper.transform(df_test).astype('float32')"
   ]
  },
  {
   "cell_type": "code",
   "execution_count": 12,
   "metadata": {},
   "outputs": [
    {
     "name": "stdout",
     "output_type": "stream",
     "text": [
      "[(1, 101), (2, 435), (3, 54), (4, 126)]\n",
      "[(1, 402), (2, 1740), (3, 216), (4, 506)]\n"
     ]
    }
   ],
   "source": [
    "# Checking the distribution of `hormone subgroup`\n",
    "feature_index = 11 # hormone subgroup\n",
    "\n",
    "def get_feature_distribution(feature_index, dataset):\n",
    "    filtered_individuals = defaultdict(list)\n",
    "    dataset_reverse = standardize[feature_index][1].inverse_transform(dataset)\n",
    "\n",
    "    for i in range(len(dataset)):\n",
    "        individual = dataset_reverse[i]\n",
    "        filtered_individuals[int(individual[feature_index])].append(i)\n",
    "    print(sorted([(k, len(v)) for k, v in filtered_individuals.items()]))\n",
    "    return filtered_individuals\n",
    "get_feature_distribution(feature_index, x_test);\n",
    "get_feature_distribution(feature_index, x_train);"
   ]
  },
  {
   "cell_type": "markdown",
   "metadata": {},
   "source": [
    "## Label transforms\n",
    "\n",
    "The survival methods require individual label transforms, so we have included a proposed `label_transform` for each method.\n",
    "For most of them the `label_transform` is just a shorthand for the class `pycox.preprocessing.label_transforms.LabTransDiscreteTime`."
   ]
  },
  {
   "cell_type": "code",
   "execution_count": 13,
   "metadata": {},
   "outputs": [
    {
     "data": {
      "text/plain": [
       "(array([0, 1], dtype=int64), array([3146,  434], dtype=int64))"
      ]
     },
     "execution_count": 13,
     "metadata": {},
     "output_type": "execute_result"
    }
   ],
   "source": [
    "# events!\n",
    "np.unique(df['event'], return_counts=True)"
   ]
  },
  {
   "cell_type": "code",
   "execution_count": 14,
   "metadata": {},
   "outputs": [
    {
     "data": {
      "text/plain": [
       "(array([-0.7820541 , -0.34317163, -0.8591799 , ..., -0.8775432 ,\n",
       "         0.8853323 ,  1.7263708 ], dtype=float32),\n",
       " array([0., 0., 0., ..., 0., 0., 0.], dtype=float32))"
      ]
     },
     "execution_count": 14,
     "metadata": {},
     "output_type": "execute_result"
    }
   ],
   "source": [
    "label_translator = CoxTime.label_transform()\n",
    "get_features = lambda df: (df['time'].values, df['event'].values)\n",
    "label_translator.fit_transform(*get_features(df_train))"
   ]
  },
  {
   "cell_type": "code",
   "execution_count": 15,
   "metadata": {},
   "outputs": [],
   "source": [
    "# labtrans = CoxTime.label_transform()\n",
    "# get_target = lambda df: (df['time'].values, df['event'].values)\n",
    "# y_train = labtrans.fit_transform(*get_target(df_train))\n",
    "# y_val = labtrans.transform(*get_target(df_val))\n",
    "# durations_test, events_test = get_target(df_test)"
   ]
  },
  {
   "cell_type": "markdown",
   "metadata": {},
   "source": [
    "# K-Fold"
   ]
  },
  {
   "cell_type": "code",
   "execution_count": 16,
   "metadata": {},
   "outputs": [],
   "source": [
    "params = {  # search params\n",
    "        'learning_rate': [0.1, 0.01, 0.001],\n",
    "        'num_nodes': [[32, 32], [32, 64], [32, 64, 128], [32, 64, 128, 256], [32, 64, 128, 256, 512]],\n",
    "        'dropout': [0.0, 0.1, 0.2, 0.3, 0.4, 0.5],\n",
    "        'batch_size': [256],\n",
    "    }\n",
    "\n",
    "cv = 5"
   ]
  },
  {
   "cell_type": "code",
   "execution_count": 17,
   "metadata": {},
   "outputs": [],
   "source": [
    "estimator = CoxTimeEstimator(label_translator, x_train.shape[1])\n",
    "gs = GridSearchCV(estimator, params, refit=True, cv=KFold(n_splits=cv), verbose=1, n_jobs=1)"
   ]
  },
  {
   "cell_type": "code",
   "execution_count": 18,
   "metadata": {},
   "outputs": [],
   "source": [
    "stack = lambda duration, event:np.hstack([duration.reshape((-1, 1)), event.reshape((-1, 1))])\n",
    "y_train = stack(*get_features(df_train))"
   ]
  },
  {
   "cell_type": "code",
   "execution_count": 19,
   "metadata": {},
   "outputs": [
    {
     "name": "stdout",
     "output_type": "stream",
     "text": [
      "Fitting 5 folds for each of 90 candidates, totalling 450 fits\n"
     ]
    },
    {
     "data": {
      "text/html": [
       "<style>#sk-container-id-1 {color: black;background-color: white;}#sk-container-id-1 pre{padding: 0;}#sk-container-id-1 div.sk-toggleable {background-color: white;}#sk-container-id-1 label.sk-toggleable__label {cursor: pointer;display: block;width: 100%;margin-bottom: 0;padding: 0.3em;box-sizing: border-box;text-align: center;}#sk-container-id-1 label.sk-toggleable__label-arrow:before {content: \"▸\";float: left;margin-right: 0.25em;color: #696969;}#sk-container-id-1 label.sk-toggleable__label-arrow:hover:before {color: black;}#sk-container-id-1 div.sk-estimator:hover label.sk-toggleable__label-arrow:before {color: black;}#sk-container-id-1 div.sk-toggleable__content {max-height: 0;max-width: 0;overflow: hidden;text-align: left;background-color: #f0f8ff;}#sk-container-id-1 div.sk-toggleable__content pre {margin: 0.2em;color: black;border-radius: 0.25em;background-color: #f0f8ff;}#sk-container-id-1 input.sk-toggleable__control:checked~div.sk-toggleable__content {max-height: 200px;max-width: 100%;overflow: auto;}#sk-container-id-1 input.sk-toggleable__control:checked~label.sk-toggleable__label-arrow:before {content: \"▾\";}#sk-container-id-1 div.sk-estimator input.sk-toggleable__control:checked~label.sk-toggleable__label {background-color: #d4ebff;}#sk-container-id-1 div.sk-label input.sk-toggleable__control:checked~label.sk-toggleable__label {background-color: #d4ebff;}#sk-container-id-1 input.sk-hidden--visually {border: 0;clip: rect(1px 1px 1px 1px);clip: rect(1px, 1px, 1px, 1px);height: 1px;margin: -1px;overflow: hidden;padding: 0;position: absolute;width: 1px;}#sk-container-id-1 div.sk-estimator {font-family: monospace;background-color: #f0f8ff;border: 1px dotted black;border-radius: 0.25em;box-sizing: border-box;margin-bottom: 0.5em;}#sk-container-id-1 div.sk-estimator:hover {background-color: #d4ebff;}#sk-container-id-1 div.sk-parallel-item::after {content: \"\";width: 100%;border-bottom: 1px solid gray;flex-grow: 1;}#sk-container-id-1 div.sk-label:hover label.sk-toggleable__label {background-color: #d4ebff;}#sk-container-id-1 div.sk-serial::before {content: \"\";position: absolute;border-left: 1px solid gray;box-sizing: border-box;top: 0;bottom: 0;left: 50%;z-index: 0;}#sk-container-id-1 div.sk-serial {display: flex;flex-direction: column;align-items: center;background-color: white;padding-right: 0.2em;padding-left: 0.2em;position: relative;}#sk-container-id-1 div.sk-item {position: relative;z-index: 1;}#sk-container-id-1 div.sk-parallel {display: flex;align-items: stretch;justify-content: center;background-color: white;position: relative;}#sk-container-id-1 div.sk-item::before, #sk-container-id-1 div.sk-parallel-item::before {content: \"\";position: absolute;border-left: 1px solid gray;box-sizing: border-box;top: 0;bottom: 0;left: 50%;z-index: -1;}#sk-container-id-1 div.sk-parallel-item {display: flex;flex-direction: column;z-index: 1;position: relative;background-color: white;}#sk-container-id-1 div.sk-parallel-item:first-child::after {align-self: flex-end;width: 50%;}#sk-container-id-1 div.sk-parallel-item:last-child::after {align-self: flex-start;width: 50%;}#sk-container-id-1 div.sk-parallel-item:only-child::after {width: 0;}#sk-container-id-1 div.sk-dashed-wrapped {border: 1px dashed gray;margin: 0 0.4em 0.5em 0.4em;box-sizing: border-box;padding-bottom: 0.4em;background-color: white;}#sk-container-id-1 div.sk-label label {font-family: monospace;font-weight: bold;display: inline-block;line-height: 1.2em;}#sk-container-id-1 div.sk-label-container {text-align: center;}#sk-container-id-1 div.sk-container {/* jupyter's `normalize.less` sets `[hidden] { display: none; }` but bootstrap.min.css set `[hidden] { display: none !important; }` so we also need the `!important` here to be able to override the default hidden behavior on the sphinx rendered scikit-learn.org. See: https://github.com/scikit-learn/scikit-learn/issues/21755 */display: inline-block !important;position: relative;}#sk-container-id-1 div.sk-text-repr-fallback {display: none;}</style><div id=\"sk-container-id-1\" class=\"sk-top-container\"><div class=\"sk-text-repr-fallback\"><pre>GridSearchCV(cv=KFold(n_splits=5, random_state=None, shuffle=False),\n",
       "             estimator=CoxTimeEstimator(in_features=18,\n",
       "                                        label_translator=&lt;pycox.preprocessing.label_transforms.LabTransCoxTime object at 0x0000022038CF4DF0&gt;),\n",
       "             n_jobs=1,\n",
       "             param_grid={&#x27;batch_size&#x27;: [256],\n",
       "                         &#x27;dropout&#x27;: [0.0, 0.1, 0.2, 0.3, 0.4, 0.5],\n",
       "                         &#x27;learning_rate&#x27;: [0.1, 0.01, 0.001],\n",
       "                         &#x27;num_nodes&#x27;: [[32, 32], [32, 64], [32, 64, 128],\n",
       "                                       [32, 64, 128, 256],\n",
       "                                       [32, 64, 128, 256, 512]]},\n",
       "             verbose=1)</pre><b>In a Jupyter environment, please rerun this cell to show the HTML representation or trust the notebook. <br />On GitHub, the HTML representation is unable to render, please try loading this page with nbviewer.org.</b></div><div class=\"sk-container\" hidden><div class=\"sk-item sk-dashed-wrapped\"><div class=\"sk-label-container\"><div class=\"sk-label sk-toggleable\"><input class=\"sk-toggleable__control sk-hidden--visually\" id=\"sk-estimator-id-1\" type=\"checkbox\" ><label for=\"sk-estimator-id-1\" class=\"sk-toggleable__label sk-toggleable__label-arrow\">GridSearchCV</label><div class=\"sk-toggleable__content\"><pre>GridSearchCV(cv=KFold(n_splits=5, random_state=None, shuffle=False),\n",
       "             estimator=CoxTimeEstimator(in_features=18,\n",
       "                                        label_translator=&lt;pycox.preprocessing.label_transforms.LabTransCoxTime object at 0x0000022038CF4DF0&gt;),\n",
       "             n_jobs=1,\n",
       "             param_grid={&#x27;batch_size&#x27;: [256],\n",
       "                         &#x27;dropout&#x27;: [0.0, 0.1, 0.2, 0.3, 0.4, 0.5],\n",
       "                         &#x27;learning_rate&#x27;: [0.1, 0.01, 0.001],\n",
       "                         &#x27;num_nodes&#x27;: [[32, 32], [32, 64], [32, 64, 128],\n",
       "                                       [32, 64, 128, 256],\n",
       "                                       [32, 64, 128, 256, 512]]},\n",
       "             verbose=1)</pre></div></div></div><div class=\"sk-parallel\"><div class=\"sk-parallel-item\"><div class=\"sk-item\"><div class=\"sk-label-container\"><div class=\"sk-label sk-toggleable\"><input class=\"sk-toggleable__control sk-hidden--visually\" id=\"sk-estimator-id-2\" type=\"checkbox\" ><label for=\"sk-estimator-id-2\" class=\"sk-toggleable__label sk-toggleable__label-arrow\">estimator: CoxTimeEstimator</label><div class=\"sk-toggleable__content\"><pre>CoxTimeEstimator(in_features=18,\n",
       "                 label_translator=&lt;pycox.preprocessing.label_transforms.LabTransCoxTime object at 0x0000022038CF4DF0&gt;)</pre></div></div></div><div class=\"sk-serial\"><div class=\"sk-item\"><div class=\"sk-estimator sk-toggleable\"><input class=\"sk-toggleable__control sk-hidden--visually\" id=\"sk-estimator-id-3\" type=\"checkbox\" ><label for=\"sk-estimator-id-3\" class=\"sk-toggleable__label sk-toggleable__label-arrow\">CoxTimeEstimator</label><div class=\"sk-toggleable__content\"><pre>CoxTimeEstimator(in_features=18,\n",
       "                 label_translator=&lt;pycox.preprocessing.label_transforms.LabTransCoxTime object at 0x0000022038CF4DF0&gt;)</pre></div></div></div></div></div></div></div></div></div></div>"
      ],
      "text/plain": [
       "GridSearchCV(cv=KFold(n_splits=5, random_state=None, shuffle=False),\n",
       "             estimator=CoxTimeEstimator(in_features=18,\n",
       "                                        label_translator=<pycox.preprocessing.label_transforms.LabTransCoxTime object at 0x0000022038CF4DF0>),\n",
       "             n_jobs=1,\n",
       "             param_grid={'batch_size': [256],\n",
       "                         'dropout': [0.0, 0.1, 0.2, 0.3, 0.4, 0.5],\n",
       "                         'learning_rate': [0.1, 0.01, 0.001],\n",
       "                         'num_nodes': [[32, 32], [32, 64], [32, 64, 128],\n",
       "                                       [32, 64, 128, 256],\n",
       "                                       [32, 64, 128, 256, 512]]},\n",
       "             verbose=1)"
      ]
     },
     "execution_count": 19,
     "metadata": {},
     "output_type": "execute_result"
    }
   ],
   "source": [
    "gs.fit(x_train, y_train)"
   ]
  },
  {
   "cell_type": "code",
   "execution_count": 20,
   "metadata": {},
   "outputs": [
    {
     "name": "stdout",
     "output_type": "stream",
     "text": [
      "0.7798756525621332 {'batch_size': 256, 'dropout': 0.1, 'learning_rate': 0.1, 'num_nodes': [32, 64]}\n"
     ]
    }
   ],
   "source": [
    "print(gs.best_score_, gs.best_params_)"
   ]
  },
  {
   "cell_type": "code",
   "execution_count": 21,
   "metadata": {},
   "outputs": [
    {
     "data": {
      "text/plain": [
       "0.7490193001726032"
      ]
     },
     "execution_count": 21,
     "metadata": {},
     "output_type": "execute_result"
    }
   ],
   "source": [
    "durations_test, events_test = get_features(df_test)\n",
    "gs.score(x_test, np.hstack([durations_test.reshape((-1, 1)), events_test.reshape((-1, 1))]))"
   ]
  },
  {
   "cell_type": "code",
   "execution_count": 22,
   "metadata": {},
   "outputs": [],
   "source": [
    "estimator = CoxTimeEstimator(label_translator, x_train.shape[1], **gs.best_params_)"
   ]
  },
  {
   "cell_type": "code",
   "execution_count": 23,
   "metadata": {},
   "outputs": [
    {
     "data": {
      "text/html": [
       "<style>#sk-container-id-2 {color: black;background-color: white;}#sk-container-id-2 pre{padding: 0;}#sk-container-id-2 div.sk-toggleable {background-color: white;}#sk-container-id-2 label.sk-toggleable__label {cursor: pointer;display: block;width: 100%;margin-bottom: 0;padding: 0.3em;box-sizing: border-box;text-align: center;}#sk-container-id-2 label.sk-toggleable__label-arrow:before {content: \"▸\";float: left;margin-right: 0.25em;color: #696969;}#sk-container-id-2 label.sk-toggleable__label-arrow:hover:before {color: black;}#sk-container-id-2 div.sk-estimator:hover label.sk-toggleable__label-arrow:before {color: black;}#sk-container-id-2 div.sk-toggleable__content {max-height: 0;max-width: 0;overflow: hidden;text-align: left;background-color: #f0f8ff;}#sk-container-id-2 div.sk-toggleable__content pre {margin: 0.2em;color: black;border-radius: 0.25em;background-color: #f0f8ff;}#sk-container-id-2 input.sk-toggleable__control:checked~div.sk-toggleable__content {max-height: 200px;max-width: 100%;overflow: auto;}#sk-container-id-2 input.sk-toggleable__control:checked~label.sk-toggleable__label-arrow:before {content: \"▾\";}#sk-container-id-2 div.sk-estimator input.sk-toggleable__control:checked~label.sk-toggleable__label {background-color: #d4ebff;}#sk-container-id-2 div.sk-label input.sk-toggleable__control:checked~label.sk-toggleable__label {background-color: #d4ebff;}#sk-container-id-2 input.sk-hidden--visually {border: 0;clip: rect(1px 1px 1px 1px);clip: rect(1px, 1px, 1px, 1px);height: 1px;margin: -1px;overflow: hidden;padding: 0;position: absolute;width: 1px;}#sk-container-id-2 div.sk-estimator {font-family: monospace;background-color: #f0f8ff;border: 1px dotted black;border-radius: 0.25em;box-sizing: border-box;margin-bottom: 0.5em;}#sk-container-id-2 div.sk-estimator:hover {background-color: #d4ebff;}#sk-container-id-2 div.sk-parallel-item::after {content: \"\";width: 100%;border-bottom: 1px solid gray;flex-grow: 1;}#sk-container-id-2 div.sk-label:hover label.sk-toggleable__label {background-color: #d4ebff;}#sk-container-id-2 div.sk-serial::before {content: \"\";position: absolute;border-left: 1px solid gray;box-sizing: border-box;top: 0;bottom: 0;left: 50%;z-index: 0;}#sk-container-id-2 div.sk-serial {display: flex;flex-direction: column;align-items: center;background-color: white;padding-right: 0.2em;padding-left: 0.2em;position: relative;}#sk-container-id-2 div.sk-item {position: relative;z-index: 1;}#sk-container-id-2 div.sk-parallel {display: flex;align-items: stretch;justify-content: center;background-color: white;position: relative;}#sk-container-id-2 div.sk-item::before, #sk-container-id-2 div.sk-parallel-item::before {content: \"\";position: absolute;border-left: 1px solid gray;box-sizing: border-box;top: 0;bottom: 0;left: 50%;z-index: -1;}#sk-container-id-2 div.sk-parallel-item {display: flex;flex-direction: column;z-index: 1;position: relative;background-color: white;}#sk-container-id-2 div.sk-parallel-item:first-child::after {align-self: flex-end;width: 50%;}#sk-container-id-2 div.sk-parallel-item:last-child::after {align-self: flex-start;width: 50%;}#sk-container-id-2 div.sk-parallel-item:only-child::after {width: 0;}#sk-container-id-2 div.sk-dashed-wrapped {border: 1px dashed gray;margin: 0 0.4em 0.5em 0.4em;box-sizing: border-box;padding-bottom: 0.4em;background-color: white;}#sk-container-id-2 div.sk-label label {font-family: monospace;font-weight: bold;display: inline-block;line-height: 1.2em;}#sk-container-id-2 div.sk-label-container {text-align: center;}#sk-container-id-2 div.sk-container {/* jupyter's `normalize.less` sets `[hidden] { display: none; }` but bootstrap.min.css set `[hidden] { display: none !important; }` so we also need the `!important` here to be able to override the default hidden behavior on the sphinx rendered scikit-learn.org. See: https://github.com/scikit-learn/scikit-learn/issues/21755 */display: inline-block !important;position: relative;}#sk-container-id-2 div.sk-text-repr-fallback {display: none;}</style><div id=\"sk-container-id-2\" class=\"sk-top-container\"><div class=\"sk-text-repr-fallback\"><pre>CoxTimeEstimator(dropout=0.1, in_features=18,\n",
       "                 label_translator=&lt;pycox.preprocessing.label_transforms.LabTransCoxTime object at 0x0000022038CF4DF0&gt;,\n",
       "                 learning_rate=0.1, num_nodes=[32, 64])</pre><b>In a Jupyter environment, please rerun this cell to show the HTML representation or trust the notebook. <br />On GitHub, the HTML representation is unable to render, please try loading this page with nbviewer.org.</b></div><div class=\"sk-container\" hidden><div class=\"sk-item\"><div class=\"sk-estimator sk-toggleable\"><input class=\"sk-toggleable__control sk-hidden--visually\" id=\"sk-estimator-id-4\" type=\"checkbox\" checked><label for=\"sk-estimator-id-4\" class=\"sk-toggleable__label sk-toggleable__label-arrow\">CoxTimeEstimator</label><div class=\"sk-toggleable__content\"><pre>CoxTimeEstimator(dropout=0.1, in_features=18,\n",
       "                 label_translator=&lt;pycox.preprocessing.label_transforms.LabTransCoxTime object at 0x0000022038CF4DF0&gt;,\n",
       "                 learning_rate=0.1, num_nodes=[32, 64])</pre></div></div></div></div></div>"
      ],
      "text/plain": [
       "CoxTimeEstimator(dropout=0.1, in_features=18,\n",
       "                 label_translator=<pycox.preprocessing.label_transforms.LabTransCoxTime object at 0x0000022038CF4DF0>,\n",
       "                 learning_rate=0.1, num_nodes=[32, 64])"
      ]
     },
     "execution_count": 23,
     "metadata": {},
     "output_type": "execute_result"
    }
   ],
   "source": [
    "estimator.fit(x_train, y_train)"
   ]
  },
  {
   "cell_type": "code",
   "execution_count": 24,
   "metadata": {},
   "outputs": [
    {
     "data": {
      "text/plain": [
       "0.7343480307547466"
      ]
     },
     "execution_count": 24,
     "metadata": {},
     "output_type": "execute_result"
    }
   ],
   "source": [
    "estimator.score_split(x_test, durations_test, events_test)"
   ]
  },
  {
   "cell_type": "code",
   "execution_count": 25,
   "metadata": {},
   "outputs": [
    {
     "data": {
      "text/plain": [
       "MLPVanillaCoxTime(\n",
       "  (net): MLPVanilla(\n",
       "    (net): Sequential(\n",
       "      (0): DenseVanillaBlock(\n",
       "        (linear): Linear(in_features=19, out_features=32, bias=True)\n",
       "        (activation): ReLU()\n",
       "        (batch_norm): BatchNorm1d(32, eps=1e-05, momentum=0.1, affine=True, track_running_stats=True)\n",
       "        (dropout): Dropout(p=0.1, inplace=False)\n",
       "      )\n",
       "      (1): DenseVanillaBlock(\n",
       "        (linear): Linear(in_features=32, out_features=64, bias=True)\n",
       "        (activation): ReLU()\n",
       "        (batch_norm): BatchNorm1d(64, eps=1e-05, momentum=0.1, affine=True, track_running_stats=True)\n",
       "        (dropout): Dropout(p=0.1, inplace=False)\n",
       "      )\n",
       "      (2): Linear(in_features=64, out_features=1, bias=False)\n",
       "    )\n",
       "  )\n",
       ")"
      ]
     },
     "execution_count": 25,
     "metadata": {},
     "output_type": "execute_result"
    }
   ],
   "source": [
    "model = estimator.model\n",
    "log = model.log\n",
    "model.net"
   ]
  },
  {
   "cell_type": "code",
   "execution_count": 26,
   "metadata": {},
   "outputs": [
    {
     "data": {
      "image/png": "[encoded data removed]",
      "text/plain": [
       "<Figure size 640x480 with 1 Axes>"
      ]
     },
     "metadata": {},
     "output_type": "display_data"
    }
   ],
   "source": [
    "log.plot();"
   ]
  },
  {
   "cell_type": "markdown",
   "metadata": {},
   "source": [
    "Next, we set the `batch_size` and the number of training `epochs`.\n",
    "\n",
    "We also include the `EarlyStopping` callback to stop training when the validation loss stops improving."
   ]
  },
  {
   "cell_type": "code",
   "execution_count": 27,
   "metadata": {},
   "outputs": [
    {
     "data": {
      "text/plain": [
       "0.3495159447193146"
      ]
     },
     "execution_count": 27,
     "metadata": {},
     "output_type": "execute_result"
    }
   ],
   "source": [
    "log.to_pandas().val_loss.min()"
   ]
  },
  {
   "cell_type": "markdown",
   "metadata": {},
   "source": [
    "## Prediction\n",
    "\n",
    "For evaluation we first need to obtain survival estimates for the test set.\n",
    "This can be done with `model.predict_surv` which returns an array of survival estimates, or with `model.predict_surv_df` which returns the survival estimates as a dataframe."
   ]
  },
  {
   "cell_type": "code",
   "execution_count": 28,
   "metadata": {},
   "outputs": [
    {
     "data": {
      "text/html": [
       "<div>\n",
       "<style scoped>\n",
       "    .dataframe tbody tr th:only-of-type {\n",
       "        vertical-align: middle;\n",
       "    }\n",
       "\n",
       "    .dataframe tbody tr th {\n",
       "        vertical-align: top;\n",
       "    }\n",
       "\n",
       "    .dataframe thead th {\n",
       "        text-align: right;\n",
       "    }\n",
       "</style>\n",
       "<table border=\"1\" class=\"dataframe\">\n",
       "  <thead>\n",
       "    <tr style=\"text-align: right;\">\n",
       "      <th></th>\n",
       "      <th>0</th>\n",
       "      <th>1</th>\n",
       "      <th>2</th>\n",
       "      <th>3</th>\n",
       "      <th>4</th>\n",
       "      <th>5</th>\n",
       "      <th>6</th>\n",
       "      <th>7</th>\n",
       "      <th>8</th>\n",
       "      <th>9</th>\n",
       "      <th>...</th>\n",
       "      <th>706</th>\n",
       "      <th>707</th>\n",
       "      <th>708</th>\n",
       "      <th>709</th>\n",
       "      <th>710</th>\n",
       "      <th>711</th>\n",
       "      <th>712</th>\n",
       "      <th>713</th>\n",
       "      <th>714</th>\n",
       "      <th>715</th>\n",
       "    </tr>\n",
       "  </thead>\n",
       "  <tbody>\n",
       "    <tr>\n",
       "      <th>1.6</th>\n",
       "      <td>1.000000</td>\n",
       "      <td>1.000000</td>\n",
       "      <td>1.000000</td>\n",
       "      <td>1.000000</td>\n",
       "      <td>1.000000</td>\n",
       "      <td>1.000000</td>\n",
       "      <td>1.000000</td>\n",
       "      <td>1.000000</td>\n",
       "      <td>1.000000</td>\n",
       "      <td>1.000000</td>\n",
       "      <td>...</td>\n",
       "      <td>1.000000</td>\n",
       "      <td>1.000000</td>\n",
       "      <td>1.000000</td>\n",
       "      <td>1.000000</td>\n",
       "      <td>1.000000</td>\n",
       "      <td>1.000000</td>\n",
       "      <td>1.000000e+00</td>\n",
       "      <td>1.000000</td>\n",
       "      <td>1.000000</td>\n",
       "      <td>1.000000</td>\n",
       "    </tr>\n",
       "    <tr>\n",
       "      <th>2.0</th>\n",
       "      <td>1.000000</td>\n",
       "      <td>1.000000</td>\n",
       "      <td>1.000000</td>\n",
       "      <td>1.000000</td>\n",
       "      <td>1.000000</td>\n",
       "      <td>1.000000</td>\n",
       "      <td>1.000000</td>\n",
       "      <td>1.000000</td>\n",
       "      <td>1.000000</td>\n",
       "      <td>1.000000</td>\n",
       "      <td>...</td>\n",
       "      <td>1.000000</td>\n",
       "      <td>1.000000</td>\n",
       "      <td>1.000000</td>\n",
       "      <td>1.000000</td>\n",
       "      <td>1.000000</td>\n",
       "      <td>1.000000</td>\n",
       "      <td>1.000000e+00</td>\n",
       "      <td>1.000000</td>\n",
       "      <td>1.000000</td>\n",
       "      <td>1.000000</td>\n",
       "    </tr>\n",
       "    <tr>\n",
       "      <th>2.3</th>\n",
       "      <td>0.999965</td>\n",
       "      <td>0.999958</td>\n",
       "      <td>0.999421</td>\n",
       "      <td>0.999475</td>\n",
       "      <td>0.999996</td>\n",
       "      <td>0.999833</td>\n",
       "      <td>0.997999</td>\n",
       "      <td>0.998612</td>\n",
       "      <td>0.999926</td>\n",
       "      <td>0.999639</td>\n",
       "      <td>...</td>\n",
       "      <td>0.999940</td>\n",
       "      <td>0.999019</td>\n",
       "      <td>0.999409</td>\n",
       "      <td>0.999879</td>\n",
       "      <td>0.999772</td>\n",
       "      <td>0.999684</td>\n",
       "      <td>9.986517e-01</td>\n",
       "      <td>0.999949</td>\n",
       "      <td>0.999522</td>\n",
       "      <td>0.999980</td>\n",
       "    </tr>\n",
       "    <tr>\n",
       "      <th>3.0</th>\n",
       "      <td>0.999931</td>\n",
       "      <td>0.999915</td>\n",
       "      <td>0.998840</td>\n",
       "      <td>0.998952</td>\n",
       "      <td>0.999991</td>\n",
       "      <td>0.999665</td>\n",
       "      <td>0.996003</td>\n",
       "      <td>0.997227</td>\n",
       "      <td>0.999853</td>\n",
       "      <td>0.999277</td>\n",
       "      <td>...</td>\n",
       "      <td>0.999879</td>\n",
       "      <td>0.998036</td>\n",
       "      <td>0.998814</td>\n",
       "      <td>0.999758</td>\n",
       "      <td>0.999544</td>\n",
       "      <td>0.999367</td>\n",
       "      <td>9.973039e-01</td>\n",
       "      <td>0.999897</td>\n",
       "      <td>0.999042</td>\n",
       "      <td>0.999960</td>\n",
       "    </tr>\n",
       "    <tr>\n",
       "      <th>3.3</th>\n",
       "      <td>0.999931</td>\n",
       "      <td>0.999915</td>\n",
       "      <td>0.998840</td>\n",
       "      <td>0.998952</td>\n",
       "      <td>0.999991</td>\n",
       "      <td>0.999665</td>\n",
       "      <td>0.996003</td>\n",
       "      <td>0.997227</td>\n",
       "      <td>0.999853</td>\n",
       "      <td>0.999277</td>\n",
       "      <td>...</td>\n",
       "      <td>0.999879</td>\n",
       "      <td>0.998036</td>\n",
       "      <td>0.998814</td>\n",
       "      <td>0.999758</td>\n",
       "      <td>0.999544</td>\n",
       "      <td>0.999367</td>\n",
       "      <td>9.973039e-01</td>\n",
       "      <td>0.999897</td>\n",
       "      <td>0.999042</td>\n",
       "      <td>0.999960</td>\n",
       "    </tr>\n",
       "    <tr>\n",
       "      <th>...</th>\n",
       "      <td>...</td>\n",
       "      <td>...</td>\n",
       "      <td>...</td>\n",
       "      <td>...</td>\n",
       "      <td>...</td>\n",
       "      <td>...</td>\n",
       "      <td>...</td>\n",
       "      <td>...</td>\n",
       "      <td>...</td>\n",
       "      <td>...</td>\n",
       "      <td>...</td>\n",
       "      <td>...</td>\n",
       "      <td>...</td>\n",
       "      <td>...</td>\n",
       "      <td>...</td>\n",
       "      <td>...</td>\n",
       "      <td>...</td>\n",
       "      <td>...</td>\n",
       "      <td>...</td>\n",
       "      <td>...</td>\n",
       "      <td>...</td>\n",
       "    </tr>\n",
       "    <tr>\n",
       "      <th>294.0</th>\n",
       "      <td>0.822728</td>\n",
       "      <td>0.849358</td>\n",
       "      <td>0.078478</td>\n",
       "      <td>0.562648</td>\n",
       "      <td>0.877519</td>\n",
       "      <td>0.598410</td>\n",
       "      <td>0.094026</td>\n",
       "      <td>0.375343</td>\n",
       "      <td>0.439289</td>\n",
       "      <td>0.396990</td>\n",
       "      <td>...</td>\n",
       "      <td>0.804995</td>\n",
       "      <td>0.056386</td>\n",
       "      <td>0.112876</td>\n",
       "      <td>0.748393</td>\n",
       "      <td>0.717980</td>\n",
       "      <td>0.600649</td>\n",
       "      <td>1.650834e-03</td>\n",
       "      <td>0.515342</td>\n",
       "      <td>0.230269</td>\n",
       "      <td>0.470470</td>\n",
       "    </tr>\n",
       "    <tr>\n",
       "      <th>299.6</th>\n",
       "      <td>0.560449</td>\n",
       "      <td>0.746046</td>\n",
       "      <td>0.003129</td>\n",
       "      <td>0.433270</td>\n",
       "      <td>0.563845</td>\n",
       "      <td>0.436289</td>\n",
       "      <td>0.032435</td>\n",
       "      <td>0.306214</td>\n",
       "      <td>0.120675</td>\n",
       "      <td>0.141746</td>\n",
       "      <td>...</td>\n",
       "      <td>0.707118</td>\n",
       "      <td>0.004356</td>\n",
       "      <td>0.013819</td>\n",
       "      <td>0.616036</td>\n",
       "      <td>0.608994</td>\n",
       "      <td>0.480806</td>\n",
       "      <td>6.960899e-08</td>\n",
       "      <td>0.168502</td>\n",
       "      <td>0.109490</td>\n",
       "      <td>0.127017</td>\n",
       "    </tr>\n",
       "    <tr>\n",
       "      <th>309.7</th>\n",
       "      <td>0.560449</td>\n",
       "      <td>0.746046</td>\n",
       "      <td>0.003129</td>\n",
       "      <td>0.433270</td>\n",
       "      <td>0.563845</td>\n",
       "      <td>0.436289</td>\n",
       "      <td>0.032435</td>\n",
       "      <td>0.306214</td>\n",
       "      <td>0.120675</td>\n",
       "      <td>0.141746</td>\n",
       "      <td>...</td>\n",
       "      <td>0.707118</td>\n",
       "      <td>0.004356</td>\n",
       "      <td>0.013819</td>\n",
       "      <td>0.616036</td>\n",
       "      <td>0.608994</td>\n",
       "      <td>0.480806</td>\n",
       "      <td>6.960899e-08</td>\n",
       "      <td>0.168502</td>\n",
       "      <td>0.109490</td>\n",
       "      <td>0.127017</td>\n",
       "    </tr>\n",
       "    <tr>\n",
       "      <th>328.9</th>\n",
       "      <td>0.560449</td>\n",
       "      <td>0.746046</td>\n",
       "      <td>0.003129</td>\n",
       "      <td>0.433270</td>\n",
       "      <td>0.563845</td>\n",
       "      <td>0.436289</td>\n",
       "      <td>0.032435</td>\n",
       "      <td>0.306214</td>\n",
       "      <td>0.120675</td>\n",
       "      <td>0.141746</td>\n",
       "      <td>...</td>\n",
       "      <td>0.707118</td>\n",
       "      <td>0.004356</td>\n",
       "      <td>0.013819</td>\n",
       "      <td>0.616036</td>\n",
       "      <td>0.608994</td>\n",
       "      <td>0.480806</td>\n",
       "      <td>6.960899e-08</td>\n",
       "      <td>0.168502</td>\n",
       "      <td>0.109490</td>\n",
       "      <td>0.127017</td>\n",
       "    </tr>\n",
       "    <tr>\n",
       "      <th>334.2</th>\n",
       "      <td>0.560449</td>\n",
       "      <td>0.746046</td>\n",
       "      <td>0.003129</td>\n",
       "      <td>0.433270</td>\n",
       "      <td>0.563845</td>\n",
       "      <td>0.436289</td>\n",
       "      <td>0.032435</td>\n",
       "      <td>0.306214</td>\n",
       "      <td>0.120675</td>\n",
       "      <td>0.141746</td>\n",
       "      <td>...</td>\n",
       "      <td>0.707118</td>\n",
       "      <td>0.004356</td>\n",
       "      <td>0.013819</td>\n",
       "      <td>0.616036</td>\n",
       "      <td>0.608994</td>\n",
       "      <td>0.480806</td>\n",
       "      <td>6.960899e-08</td>\n",
       "      <td>0.168502</td>\n",
       "      <td>0.109490</td>\n",
       "      <td>0.127017</td>\n",
       "    </tr>\n",
       "  </tbody>\n",
       "</table>\n",
       "<p>1221 rows × 716 columns</p>\n",
       "</div>"
      ],
      "text/plain": [
       "            0         1         2         3         4         5         6    \\\n",
       "1.6    1.000000  1.000000  1.000000  1.000000  1.000000  1.000000  1.000000   \n",
       "2.0    1.000000  1.000000  1.000000  1.000000  1.000000  1.000000  1.000000   \n",
       "2.3    0.999965  0.999958  0.999421  0.999475  0.999996  0.999833  0.997999   \n",
       "3.0    0.999931  0.999915  0.998840  0.998952  0.999991  0.999665  0.996003   \n",
       "3.3    0.999931  0.999915  0.998840  0.998952  0.999991  0.999665  0.996003   \n",
       "...         ...       ...       ...       ...       ...       ...       ...   \n",
       "294.0  0.822728  0.849358  0.078478  0.562648  0.877519  0.598410  0.094026   \n",
       "299.6  0.560449  0.746046  0.003129  0.433270  0.563845  0.436289  0.032435   \n",
       "309.7  0.560449  0.746046  0.003129  0.433270  0.563845  0.436289  0.032435   \n",
       "328.9  0.560449  0.746046  0.003129  0.433270  0.563845  0.436289  0.032435   \n",
       "334.2  0.560449  0.746046  0.003129  0.433270  0.563845  0.436289  0.032435   \n",
       "\n",
       "            7         8         9    ...       706       707       708  \\\n",
       "1.6    1.000000  1.000000  1.000000  ...  1.000000  1.000000  1.000000   \n",
       "2.0    1.000000  1.000000  1.000000  ...  1.000000  1.000000  1.000000   \n",
       "2.3    0.998612  0.999926  0.999639  ...  0.999940  0.999019  0.999409   \n",
       "3.0    0.997227  0.999853  0.999277  ...  0.999879  0.998036  0.998814   \n",
       "3.3    0.997227  0.999853  0.999277  ...  0.999879  0.998036  0.998814   \n",
       "...         ...       ...       ...  ...       ...       ...       ...   \n",
       "294.0  0.375343  0.439289  0.396990  ...  0.804995  0.056386  0.112876   \n",
       "299.6  0.306214  0.120675  0.141746  ...  0.707118  0.004356  0.013819   \n",
       "309.7  0.306214  0.120675  0.141746  ...  0.707118  0.004356  0.013819   \n",
       "328.9  0.306214  0.120675  0.141746  ...  0.707118  0.004356  0.013819   \n",
       "334.2  0.306214  0.120675  0.141746  ...  0.707118  0.004356  0.013819   \n",
       "\n",
       "            709       710       711           712       713       714  \\\n",
       "1.6    1.000000  1.000000  1.000000  1.000000e+00  1.000000  1.000000   \n",
       "2.0    1.000000  1.000000  1.000000  1.000000e+00  1.000000  1.000000   \n",
       "2.3    0.999879  0.999772  0.999684  9.986517e-01  0.999949  0.999522   \n",
       "3.0    0.999758  0.999544  0.999367  9.973039e-01  0.999897  0.999042   \n",
       "3.3    0.999758  0.999544  0.999367  9.973039e-01  0.999897  0.999042   \n",
       "...         ...       ...       ...           ...       ...       ...   \n",
       "294.0  0.748393  0.717980  0.600649  1.650834e-03  0.515342  0.230269   \n",
       "299.6  0.616036  0.608994  0.480806  6.960899e-08  0.168502  0.109490   \n",
       "309.7  0.616036  0.608994  0.480806  6.960899e-08  0.168502  0.109490   \n",
       "328.9  0.616036  0.608994  0.480806  6.960899e-08  0.168502  0.109490   \n",
       "334.2  0.616036  0.608994  0.480806  6.960899e-08  0.168502  0.109490   \n",
       "\n",
       "            715  \n",
       "1.6    1.000000  \n",
       "2.0    1.000000  \n",
       "2.3    0.999980  \n",
       "3.0    0.999960  \n",
       "3.3    0.999960  \n",
       "...         ...  \n",
       "294.0  0.470470  \n",
       "299.6  0.127017  \n",
       "309.7  0.127017  \n",
       "328.9  0.127017  \n",
       "334.2  0.127017  \n",
       "\n",
       "[1221 rows x 716 columns]"
      ]
     },
     "execution_count": 28,
     "metadata": {},
     "output_type": "execute_result"
    }
   ],
   "source": [
    "surv = model.predict_surv_df(x_test)\n",
    "surv\n",
    "# columns are sample indices, values are the probability of the events"
   ]
  },
  {
   "cell_type": "markdown",
   "metadata": {},
   "source": [
    "## Evaluation\n",
    "\n",
    "The `EvalSurv` class contains some useful evaluation criteria for time-to-event prediction.\n",
    "We set `censor_surv = 'km'` to state that we want to use Kaplan-Meier for estimating the censoring distribution.\n"
   ]
  },
  {
   "cell_type": "code",
   "execution_count": 29,
   "metadata": {},
   "outputs": [],
   "source": [
    "ev = EvalSurv(surv, durations_test, events_test, censor_surv='km')"
   ]
  },
  {
   "cell_type": "markdown",
   "metadata": {},
   "source": [
    "#### Concordance\n",
    "\n",
    "We start with the event-time concordance by [Antolini et al. 2005](https://onlinelibrary.wiley.com/doi/10.1002/sim.2427)."
   ]
  },
  {
   "cell_type": "code",
   "execution_count": 30,
   "metadata": {},
   "outputs": [
    {
     "data": {
      "text/plain": [
       "0.7343480307547466"
      ]
     },
     "execution_count": 30,
     "metadata": {},
     "output_type": "execute_result"
    }
   ],
   "source": [
    "ev.concordance_td('adj_antolini')"
   ]
  },
  {
   "cell_type": "markdown",
   "metadata": {},
   "source": [
    "#### Brier Score\n",
    "\n",
    "We can plot the the [IPCW Brier score](https://onlinelibrary.wiley.com/doi/abs/10.1002/%28SICI%291097-0258%2819990915/30%2918%3A17/18%3C2529%3A%3AAID-SIM274%3E3.0.CO%3B2-5) for a given set of times.\n",
    "Here we just use 100 time-points between the min and max duration in the test set.\n",
    "Note that the score becomes unstable for the highest times. It is therefore common to disregard the rightmost part of the graph."
   ]
  },
  {
   "cell_type": "code",
   "execution_count": 31,
   "metadata": {},
   "outputs": [
    {
     "data": {
      "image/png": "[encoded data removed]",
      "text/plain": [
       "<Figure size 640x480 with 1 Axes>"
      ]
     },
     "metadata": {},
     "output_type": "display_data"
    }
   ],
   "source": [
    "time_grid = np.linspace(durations_test.min(), durations_test.max(), 100)\n",
    "ev.brier_score(time_grid).plot()\n",
    "plt.ylabel('Brier score of Nnet-survival Model')\n",
    "_ = plt.xlabel('Time(month)')"
   ]
  },
  {
   "cell_type": "markdown",
   "metadata": {},
   "source": [
    "#### Negative binomial log-likelihood\n",
    "\n",
    "In a similar manner, we can plot the the [IPCW negative binomial log-likelihood](https://onlinelibrary.wiley.com/doi/abs/10.1002/%28SICI%291097-0258%2819990915/30%2918%3A17/18%3C2529%3A%3AAID-SIM274%3E3.0.CO%3B2-5)."
   ]
  },
  {
   "cell_type": "code",
   "execution_count": 32,
   "metadata": {
    "scrolled": true
   },
   "outputs": [
    {
     "data": {
      "image/png": "[encoded data removed]",
      "text/plain": [
       "<Figure size 640x480 with 1 Axes>"
      ]
     },
     "metadata": {},
     "output_type": "display_data"
    }
   ],
   "source": [
    "ev.nbll(time_grid).plot()\n",
    "plt.ylabel('NBLL')\n",
    "_ = plt.xlabel('Time')"
   ]
  },
  {
   "cell_type": "markdown",
   "metadata": {},
   "source": [
    "#### Integrated scores\n",
    "\n",
    "The two time-dependent scores above can be integrated over time to produce a single score [Graf et al. 1999](https://onlinelibrary.wiley.com/doi/abs/10.1002/%28SICI%291097-0258%2819990915/30%2918%3A17/18%3C2529%3A%3AAID-SIM274%3E3.0.CO%3B2-5). In practice this is done by numerical integration over a defined `time_grid`."
   ]
  },
  {
   "cell_type": "code",
   "execution_count": 33,
   "metadata": {},
   "outputs": [
    {
     "data": {
      "text/plain": [
       "0.14638876777665719"
      ]
     },
     "execution_count": 33,
     "metadata": {},
     "output_type": "execute_result"
    }
   ],
   "source": [
    "ev.integrated_brier_score(time_grid) "
   ]
  },
  {
   "cell_type": "code",
   "execution_count": 34,
   "metadata": {},
   "outputs": [
    {
     "data": {
      "text/plain": [
       "0.4602016703248651"
      ]
     },
     "execution_count": 34,
     "metadata": {},
     "output_type": "execute_result"
    }
   ],
   "source": [
    "ev.integrated_nbll(time_grid) "
   ]
  },
  {
   "cell_type": "markdown",
   "metadata": {},
   "source": [
    "*_:-)_*"
   ]
  }
 ],
 "metadata": {
  "kernelspec": {
   "display_name": "Python 3 (ipykernel)",
   "language": "python",
   "name": "python3"
  },
  "language_info": {
   "codemirror_mode": {
    "name": "ipython",
    "version": 3
   },
   "file_extension": ".py",
   "mimetype": "text/x-python",
   "name": "python",
   "nbconvert_exporter": "python",
   "pygments_lexer": "ipython3",
   "version": "3.10.4"
  }
 },
 "nbformat": 4,
 "nbformat_minor": 4
}
